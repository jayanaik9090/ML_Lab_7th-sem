{
  "nbformat": 4,
  "nbformat_minor": 0,
  "metadata": {
    "colab": {
      "name": "lab5mi.ipynb",
      "provenance": [],
      "collapsed_sections": [],
      "authorship_tag": "ABX9TyODemWzCS5cbXQ2fv6G5mRo",
      "include_colab_link": true
    },
    "kernelspec": {
      "name": "python3",
      "display_name": "Python 3"
    }
  },
  "cells": [
    {
      "cell_type": "markdown",
      "metadata": {
        "id": "view-in-github",
        "colab_type": "text"
      },
      "source": [
        "<a href=\"https://colab.research.google.com/github/jayanaik9090/MachineLearning_Lab_7th-sem/blob/main/mllab5mi.ipynb\" target=\"_parent\"><img src=\"https://colab.research.google.com/assets/colab-badge.svg\" alt=\"Open In Colab\"/></a>"
      ]
    },
    {
      "cell_type": "markdown",
      "metadata": {
        "id": "S7iF9lYxHk8N"
      },
      "source": [
        "#Write a program to implement the naïve Bayesian classifier for a sample training data set stored as a .CSV file. Compute the accuracy of the classifier, considering few test data sets."
      ]
    },
    {
      "cell_type": "code",
      "metadata": {
        "colab": {
          "base_uri": "https://localhost:8080/"
        },
        "id": "Vh4zzSYG9eqe",
        "outputId": "9e60364c-ce41-4aab-ca29-af1f1b1b55c2"
      },
      "source": [
        "#Import scikit-learn dataset library\r\n",
        "from sklearn.datasets import load_iris\r\n",
        "iris_dataset = load_iris() #Loads iris dataset\r\n",
        "x = iris_dataset.data # assigning the feature set to x\r\n",
        "y = iris_dataset.target # assigning the target concept to y\r\n",
        "# print the names of the 4 features of Iris Dataset\r\n",
        "print (\"Features: \", iris_dataset.feature_names)\r\n",
        "# print the label type of Iris Dataset\r\n",
        "print (\"Labels: \", iris_dataset.target_names)\r\n",
        "# print data(feature)shape(rows and cols)\r\n",
        "iris_dataset.data.shape\r\n",
        "\r\n",
        "# print the data features\r\n",
        "iris_dataset.data\r\n",
        "# print the labels (0:setosa, 1:versicolor, 2:virginica)\r\n",
        "print (iris_dataset.target)\r\n",
        "# Splitting the dataset into train and test set\r\n",
        "from sklearn.model_selection import train_test_split\r\n",
        "x_train, x_test, y_train, y_test = train_test_split(x, y)\r\n",
        "#Import Gaussian Naive Bayes model\r\n",
        "from sklearn.naive_bayes import GaussianNB\r\n",
        "#Create a Gaussian Classifier\r\n",
        "gnb = GaussianNB()\r\n",
        "#Train the model using the training sets\r\n",
        "gnb.fit(x_train,y_train)\r\n",
        "#Predict the response for test dataset\r\n",
        "y_pred = gnb.predict(x_test)\r\n",
        "#Import scikit-learn metrics module for accuracy calculation\r\n",
        "from sklearn import metrics\r\n",
        "# Model Accuracy, how often is the classifier correct?\r\n",
        "percent = round( metrics.accuracy_score(y_test,y_pred) * 100, 2)\r\n",
        "print(\"Gaussian Naive Bayes model accuracy is {0}%\".format(percent) )"
      ],
      "execution_count": null,
      "outputs": [
        {
          "output_type": "stream",
          "text": [
            "Features:  ['sepal length (cm)', 'sepal width (cm)', 'petal length (cm)', 'petal width (cm)']\n",
            "Labels:  ['setosa' 'versicolor' 'virginica']\n",
            "[0 0 0 0 0 0 0 0 0 0 0 0 0 0 0 0 0 0 0 0 0 0 0 0 0 0 0 0 0 0 0 0 0 0 0 0 0\n",
            " 0 0 0 0 0 0 0 0 0 0 0 0 0 1 1 1 1 1 1 1 1 1 1 1 1 1 1 1 1 1 1 1 1 1 1 1 1\n",
            " 1 1 1 1 1 1 1 1 1 1 1 1 1 1 1 1 1 1 1 1 1 1 1 1 1 1 2 2 2 2 2 2 2 2 2 2 2\n",
            " 2 2 2 2 2 2 2 2 2 2 2 2 2 2 2 2 2 2 2 2 2 2 2 2 2 2 2 2 2 2 2 2 2 2 2 2 2\n",
            " 2 2]\n",
            "Gaussian Naive Bayes model accuracy is 92.11%\n"
          ],
          "name": "stdout"
        }
      ]
    },
    {
      "cell_type": "code",
      "metadata": {
        "id": "Q7SwORk99f6C"
      },
      "source": [
        ""
      ],
      "execution_count": null,
      "outputs": []
    }
  ]
}