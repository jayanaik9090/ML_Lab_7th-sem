{
  "nbformat": 4,
  "nbformat_minor": 0,
  "metadata": {
    "colab": {
      "name": "prgrm6_ml.ipynb",
      "provenance": [],
      "authorship_tag": "ABX9TyOfyCN5kRHsVLQYh0hItB3m",
      "include_colab_link": true
    },
    "kernelspec": {
      "name": "python3",
      "display_name": "Python 3"
    }
  },
  "cells": [
    {
      "cell_type": "markdown",
      "metadata": {
        "id": "view-in-github",
        "colab_type": "text"
      },
      "source": [
        "<a href=\"https://colab.research.google.com/github/jayanaik9090/MachineLearning_Lab_7th-sem/blob/main/prgrm6_ml.ipynb\" target=\"_parent\"><img src=\"https://colab.research.google.com/assets/colab-badge.svg\" alt=\"Open In Colab\"/></a>"
      ]
    },
    {
      "cell_type": "code",
      "metadata": {
        "id": "3_v0WsHWBcR6"
      },
      "source": [
        "import pandas as pd"
      ],
      "execution_count": null,
      "outputs": []
    },
    {
      "cell_type": "code",
      "metadata": {
        "colab": {
          "base_uri": "https://localhost:8080/"
        },
        "id": "FFuh9dZfDDY9",
        "outputId": "9691f439-1029-465d-9c6b-1224bc472c32"
      },
      "source": [
        "msg=pd.read_csv('/content/naivetext.csv',names=['message','label'])\r\n",
        "print(\"the dimension of the dataset\",msg.shape)\r\n",
        "msg['labelnum']=msg.label.map({'pos':1,'neg':0})\r\n",
        "X=msg.message\r\n",
        "y=msg.labelnum\r\n",
        "print(X)\r\n",
        "print(y)"
      ],
      "execution_count": null,
      "outputs": [
        {
          "output_type": "stream",
          "text": [
            "the dimension of the dataset (18, 2)\n",
            "0                      I love this sandwich\n",
            "1                  This is an amazing place\n",
            "2        I feel very good about these beers\n",
            "3                      This is my best work\n",
            "4                      What an awesome view\n",
            "5             I do not like this restaurant\n",
            "6                  I am tired of this stuff\n",
            "7                    I can't deal with this\n",
            "8                      He is my sworn enemy\n",
            "9                       My boss is horrible\n",
            "10                 This is an awesome place\n",
            "11    I do not like the taste of this juice\n",
            "12                          I love to dance\n",
            "13        I am sick and tired of this place\n",
            "14                     What a great holiday\n",
            "15           That is a bad locality to stay\n",
            "16           We will have good fun tomorrow\n",
            "17         I went to my enemy's house today\n",
            "Name: message, dtype: object\n",
            "0     1\n",
            "1     1\n",
            "2     1\n",
            "3     1\n",
            "4     1\n",
            "5     0\n",
            "6     0\n",
            "7     0\n",
            "8     0\n",
            "9     0\n",
            "10    1\n",
            "11    0\n",
            "12    1\n",
            "13    0\n",
            "14    1\n",
            "15    0\n",
            "16    1\n",
            "17    0\n",
            "Name: labelnum, dtype: int64\n"
          ],
          "name": "stdout"
        }
      ]
    },
    {
      "cell_type": "code",
      "metadata": {
        "colab": {
          "base_uri": "https://localhost:8080/"
        },
        "id": "9Rz0w2_RDWWi",
        "outputId": "63e3e521-3cd2-4bc4-fda5-0ba3ac961991"
      },
      "source": [
        "from sklearn.model_selection import train_test_split\r\n",
        "xtrain,xtest,ytrain,ytest=train_test_split(X,y)\r\n",
        "print(xtest.shape)\r\n",
        "print(xtrain.shape)\r\n",
        "print(ytest.shape)\r\n",
        "print(ytrain.shape)"
      ],
      "execution_count": null,
      "outputs": [
        {
          "output_type": "stream",
          "text": [
            "(5,)\n",
            "(13,)\n",
            "(5,)\n",
            "(13,)\n"
          ],
          "name": "stdout"
        }
      ]
    },
    {
      "cell_type": "code",
      "metadata": {
        "id": "hcsYoch1EbLd"
      },
      "source": [
        "from sklearn.feature_extraction.text import CountVectorizer\r\n",
        "count_vect=CountVectorizer()\r\n",
        "xtrain_dtm=count_vect.fit_transform(xtrain)\r\n",
        "xtest_dtm=count_vect.transform(xtest)\r\n",
        "from sklearn.naive_bayes import MultinomialNB\r\n",
        "clf=MultinomialNB().fit(xtrain_dtm,ytrain)\r\n",
        "predicted=clf.predict(xtest_dtm)"
      ],
      "execution_count": null,
      "outputs": []
    },
    {
      "cell_type": "code",
      "metadata": {
        "colab": {
          "base_uri": "https://localhost:8080/"
        },
        "id": "fWxlOne0Fgx3",
        "outputId": "62d1213d-82ae-41ed-cfae-ce3b5c0b6e65"
      },
      "source": [
        "from sklearn import metrics\r\n",
        "print('Accuracy metrics')\r\n",
        "print('Accuracy of the clssifier is',metrics.accuracy_score(ytest,predicted))\r\n",
        "print('Confusion matrix')\r\n",
        "print(metrics.confusion_matrix(ytest,predicted))\r\n",
        "print('Recall and Precison')\r\n",
        "print(metrics.recall_score(ytest,predicted))\r\n",
        "print(metrics.precision_score(ytest,predicted))"
      ],
      "execution_count": null,
      "outputs": [
        {
          "output_type": "stream",
          "text": [
            "Accuracy metrics\n",
            "Accuracy of the clssifier is 0.6\n",
            "Confusion matrix\n",
            "[[2 0]\n",
            " [2 1]]\n",
            "Recall and Precison\n",
            "0.3333333333333333\n",
            "1.0\n"
          ],
          "name": "stdout"
        }
      ]
    },
    {
      "cell_type": "code",
      "metadata": {
        "id": "wkf8pdsXHE8Y"
      },
      "source": [
        ""
      ],
      "execution_count": null,
      "outputs": []
    }
  ]
}