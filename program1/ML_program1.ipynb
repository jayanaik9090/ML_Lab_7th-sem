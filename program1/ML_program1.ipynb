{
 "cells": [
  {
   "cell_type": "markdown",
   "metadata": {},
   "source": [
    "# Experiment-1: Implement and demonstrate the FIND-S\n",
    "# algorithm for finding the most specific hypothesis based on a\n",
    "# given set of training data samples. Read the training data from\n",
    "# a .CSV file.\n",
    "# Algorithm:\n",
    "# 1. Initialize h to the most specific hypothesis in H\n",
    "# 2. For each positive training instance x\n",
    "# • For each attribute constraint ai in h\n",
    "# If the constraint ai in h is satisfied by x then do nothing\n",
    "# else replace ai in h by the next more general constraint that is satisfied\n",
    "# by x\n",
    "# 3. Output hypothesis h"
   ]
  },
  {
   "cell_type": "code",
   "execution_count": 1,
   "metadata": {},
   "outputs": [],
   "source": [
    "import random\n",
    "import csv"
   ]
  },
  {
   "cell_type": "code",
   "execution_count": 16,
   "metadata": {},
   "outputs": [],
   "source": [
    "att=[['sunny','rainy'],['warm','cold'],['normal','high'],['strong','week'],['warm','cool'],['same','change']]"
   ]
  },
  {
   "cell_type": "code",
   "execution_count": 17,
   "metadata": {},
   "outputs": [],
   "source": [
    "n=len(att)"
   ]
  },
  {
   "cell_type": "code",
   "execution_count": 18,
   "metadata": {},
   "outputs": [
    {
     "name": "stdout",
     "output_type": "stream",
     "text": [
      "\n",
      " the most general hypothesis: ['?','?','?','?','?','?']\n",
      "\n",
      "\n",
      " the most specific hypothesis: ['0','0','0','0','0','0']\n",
      "\n"
     ]
    }
   ],
   "source": [
    "print(\"\\n the most general hypothesis: ['?','?','?','?','?','?']\\n\")\n",
    "print(\"\\n the most specific hypothesis: ['0','0','0','0','0','0']\\n\")"
   ]
  },
  {
   "cell_type": "code",
   "execution_count": 19,
   "metadata": {},
   "outputs": [
    {
     "name": "stdout",
     "output_type": "stream",
     "text": [
      "\n",
      " The given training data set \n",
      "\n",
      "['sunny', 'warm', 'normal', 'strong', 'warm', 'same', 'yes']\n",
      "['sunny', 'warm', 'high', 'strong', 'warm', 'same', 'yes']\n",
      "['rainy', 'cold', 'high', 'strong', 'warm', 'change', 'no']\n",
      "['sunny', 'warm', 'high', 'strong', 'cool', 'change', 'yes']\n"
     ]
    }
   ],
   "source": [
    "a=[]\n",
    "print(\"\\n The given training data set \\n\")\n",
    "with open('prgrm1.csv','r')as csvFile:\n",
    "    reader=csv.reader(csvFile)\n",
    "    for row in reader:\n",
    "        a.append(row)\n",
    "        print(row)\n",
    "    #print(a)"
   ]
  },
  {
   "cell_type": "code",
   "execution_count": 20,
   "metadata": {},
   "outputs": [
    {
     "name": "stdout",
     "output_type": "stream",
     "text": [
      "\n",
      " The initial value of hypothisis: \n",
      "['0', '0', '0', '0', '0', '0']\n"
     ]
    }
   ],
   "source": [
    "print(\"\\n The initial value of hypothisis: \")\n",
    "hy=['0']*n\n",
    "print(hy)"
   ]
  },
  {
   "cell_type": "code",
   "execution_count": 21,
   "metadata": {},
   "outputs": [
    {
     "name": "stdout",
     "output_type": "stream",
     "text": [
      "\n",
      " Find s: Finding a maximally specific Hypothisis \n",
      "\n"
     ]
    }
   ],
   "source": [
    "for j in range(0,n):\n",
    "    hy[j]=a[0][j]\n",
    "    \n",
    "print(\"\\n Find s: Finding a maximally specific Hypothisis \\n\")"
   ]
  },
  {
   "cell_type": "code",
   "execution_count": 22,
   "metadata": {},
   "outputs": [
    {
     "name": "stdout",
     "output_type": "stream",
     "text": [
      "for Training example no {0}   The hypothesis is: 0 ['sunny', 'warm', 'normal', 'strong', 'warm', 'same']\n",
      "for Training example no {0}   The hypothesis is: 1 ['sunny', 'warm', '?', 'strong', 'warm', 'same']\n",
      "for Training example no {0}   The hypothesis is: 2 ['sunny', 'warm', '?', 'strong', 'warm', 'same']\n",
      "for Training example no {0}   The hypothesis is: 3 ['sunny', 'warm', '?', 'strong', '?', '?']\n",
      "\n",
      "the maximally specific Hypothesis for a given training example :\n",
      "\n",
      "['sunny', 'warm', '?', 'strong', '?', '?']\n"
     ]
    }
   ],
   "source": [
    "for i in range(0,len(a)):\n",
    "    if a[i][n]=='yes':\n",
    "        for j in range(0,n):\n",
    "            if a[i][j]!=hy[j]:\n",
    "                hy[j]='?'\n",
    "            else:\n",
    "                hy[j]=a[i][j]\n",
    "                \n",
    "    print(\"for Training example no {0}   The hypothesis is:\",format(i),hy)\n",
    "\n",
    "print(\"\\nthe maximally specific Hypothesis for a given training example :\\n\")\n",
    "print(hy)"
   ]
  },
  {
   "cell_type": "code",
   "execution_count": null,
   "metadata": {},
   "outputs": [],
   "source": []
  }
 ],
 "metadata": {
  "kernelspec": {
   "display_name": "Python 3",
   "language": "python",
   "name": "python3"
  },
  "language_info": {
   "codemirror_mode": {
    "name": "ipython",
    "version": 3
   },
   "file_extension": ".py",
   "mimetype": "text/x-python",
   "name": "python",
   "nbconvert_exporter": "python",
   "pygments_lexer": "ipython3",
   "version": "3.6.5"
  }
 },
 "nbformat": 4,
 "nbformat_minor": 2
}
