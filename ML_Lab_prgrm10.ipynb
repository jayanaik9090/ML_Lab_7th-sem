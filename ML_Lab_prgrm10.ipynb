{
  "nbformat": 4,
  "nbformat_minor": 0,
  "metadata": {
    "colab": {
      "name": "ML_Lab_prgrm10.ipynb",
      "provenance": [],
      "authorship_tag": "ABX9TyPzO/i1rtsWF5MMWxH1Qxd7",
      "include_colab_link": true
    },
    "kernelspec": {
      "name": "python3",
      "display_name": "Python 3"
    }
  },
  "cells": [
    {
      "cell_type": "markdown",
      "metadata": {
        "id": "view-in-github",
        "colab_type": "text"
      },
      "source": [
        "<a href=\"https://colab.research.google.com/github/jayanaik9090/MachineLearning_Lab_7th-sem/blob/main/ML_Lab_prgrm10.ipynb\" target=\"_parent\"><img src=\"https://colab.research.google.com/assets/colab-badge.svg\" alt=\"Open In Colab\"/></a>"
      ]
    },
    {
      "cell_type": "code",
      "metadata": {
        "id": "DEOGDMlrKkfw"
      },
      "source": [
        "import numpy as np\r\n",
        "from bokeh.plotting import figure, show, output_notebook\r\n",
        "from bokeh.layouts import gridplot\r\n",
        "from bokeh.io import push_notebook\r\n",
        "\r\n",
        "output_notebook()"
      ],
      "execution_count": 19,
      "outputs": []
    },
    {
      "cell_type": "code",
      "metadata": {
        "id": "F-1K18OSLndy"
      },
      "source": [
        "import numpy as np"
      ],
      "execution_count": 20,
      "outputs": []
    },
    {
      "cell_type": "code",
      "metadata": {
        "id": "u2QCwpgVLynE"
      },
      "source": [
        "def local_regression(x0,X,Y,tau):\r\n",
        "  x0=np.r_[1,x0]\r\n",
        "  X=np.c_[np.ones(len(X)),X]\r\n",
        "  xw=X.T*radial_kernel(x0,X,tau)\r\n",
        "  beta=np.linalg.pinv(xw@X)@ xw @Y\r\n",
        "  return x0 @ beta"
      ],
      "execution_count": 21,
      "outputs": []
    },
    {
      "cell_type": "code",
      "metadata": {
        "id": "1_0e2-vEMDrT"
      },
      "source": [
        "def radial_kernel(x0,X,tau):\r\n",
        "  return np.exp(np.sum((X-x0)**2,axis=1)/(-2*tau*tau))"
      ],
      "execution_count": 22,
      "outputs": []
    },
    {
      "cell_type": "code",
      "metadata": {
        "colab": {
          "base_uri": "https://localhost:8080/"
        },
        "id": "0US8uqM_MLu_",
        "outputId": "6eada9cf-6d7d-4dc4-93df-2d9a872d2239"
      },
      "source": [
        "n=100\r\n",
        "X=np.linspace(-3,3,num=n)\r\n",
        "print(\"The Data set(10 Samples)X:\\n\",X[1:10])\r\n",
        "Y=np.log(np.abs(X**2-1)+.5)\r\n",
        "print(\"The Fitting Curve Data Set(10 samples) Y:\\n\",Y[1:10])\r\n",
        "X+=np.random.normal(scale=.1, size=n)\r\n",
        "print(\"Normalised (10 samples) X:\\n\",X[1:10])"
      ],
      "execution_count": 23,
      "outputs": [
        {
          "output_type": "stream",
          "text": [
            "The Data set(10 Samples)X:\n",
            " [-2.93939394 -2.87878788 -2.81818182 -2.75757576 -2.6969697  -2.63636364\n",
            " -2.57575758 -2.51515152 -2.45454545]\n",
            "The Fitting Curve Data Set(10 samples) Y:\n",
            " [2.09679469 2.05250957 2.00715962 1.96068954 1.91303943 1.86414419\n",
            " 1.81393299 1.76232845 1.70924585]\n",
            "Normalised (10 samples) X:\n",
            " [-3.0928375  -2.66730128 -2.9607112  -2.71092531 -2.48158548 -2.46517685\n",
            " -2.63233131 -2.59380259 -2.41659548]\n"
          ],
          "name": "stdout"
        }
      ]
    },
    {
      "cell_type": "code",
      "metadata": {
        "colab": {
          "base_uri": "https://localhost:8080/"
        },
        "id": "lkE-vBfqNvPT",
        "outputId": "e935ce1d-93b3-4ebe-f8f0-5bb22c6a35b1"
      },
      "source": [
        "domain=np.linspace(-3,3,num=300)\r\n",
        "print(\"X0 Domain Space(10 samples) :\\n\",domain[1:10])\r\n",
        "\r\n",
        "def plot_lwr(tau):\r\n",
        "  prediction=[local_regression(x0,X,Y,tau)for x0 in domain]\r\n",
        "  plot=figure(plot_width=400,plot_height=400)\r\n",
        "  plot.title.text='tau=%g' % tau\r\n",
        "  plot.scatter(X,Y,alpha=.3)\r\n",
        "  plot.line(domain,prediction,line_width=2,color='red')\r\n",
        "  return plot"
      ],
      "execution_count": 24,
      "outputs": [
        {
          "output_type": "stream",
          "text": [
            "X0 Domain Space(10 samples) :\n",
            " [-2.97993311 -2.95986622 -2.93979933 -2.91973244 -2.89966555 -2.87959866\n",
            " -2.85953177 -2.83946488 -2.81939799]\n"
          ],
          "name": "stdout"
        }
      ]
    },
    {
      "cell_type": "code",
      "metadata": {
        "colab": {
          "base_uri": "https://localhost:8080/",
          "height": 847
        },
        "id": "l03fN2tyOuE6",
        "outputId": "0a305a5d-b6bb-456e-ec66-05fd7d32b718"
      },
      "source": [
        "show(gridplot([[plot_lwr(10.),plot_lwr(1.)],[plot_lwr(0.1),plot_lwr(0.01)]]))"
      ],
      "execution_count": 25,
      "outputs": [
        {
          "output_type": "display_data",
          "data": {
            "application/javascript": [
              "\n",
              "(function(root) {\n",
              "  function now() {\n",
              "    return new Date();\n",
              "  }\n",
              "\n",
              "  var force = true;\n",
              "\n",
              "  if (typeof root._bokeh_onload_callbacks === \"undefined\" || force === true) {\n",
              "    root._bokeh_onload_callbacks = [];\n",
              "    root._bokeh_is_loading = undefined;\n",
              "  }\n",
              "\n",
              "  var JS_MIME_TYPE = 'application/javascript';\n",
              "  var HTML_MIME_TYPE = 'text/html';\n",
              "  var EXEC_MIME_TYPE = 'application/vnd.bokehjs_exec.v0+json';\n",
              "  var CLASS_NAME = 'output_bokeh rendered_html';\n",
              "\n",
              "  /**\n",
              "   * Render data to the DOM node\n",
              "   */\n",
              "  function render(props, node) {\n",
              "    var script = document.createElement(\"script\");\n",
              "    node.appendChild(script);\n",
              "  }\n",
              "\n",
              "  /**\n",
              "   * Handle when an output is cleared or removed\n",
              "   */\n",
              "  function handleClearOutput(event, handle) {\n",
              "    var cell = handle.cell;\n",
              "\n",
              "    var id = cell.output_area._bokeh_element_id;\n",
              "    var server_id = cell.output_area._bokeh_server_id;\n",
              "    // Clean up Bokeh references\n",
              "    if (id != null && id in Bokeh.index) {\n",
              "      Bokeh.index[id].model.document.clear();\n",
              "      delete Bokeh.index[id];\n",
              "    }\n",
              "\n",
              "    if (server_id !== undefined) {\n",
              "      // Clean up Bokeh references\n",
              "      var cmd = \"from bokeh.io.state import curstate; print(curstate().uuid_to_server['\" + server_id + \"'].get_sessions()[0].document.roots[0]._id)\";\n",
              "      cell.notebook.kernel.execute(cmd, {\n",
              "        iopub: {\n",
              "          output: function(msg) {\n",
              "            var id = msg.content.text.trim();\n",
              "            if (id in Bokeh.index) {\n",
              "              Bokeh.index[id].model.document.clear();\n",
              "              delete Bokeh.index[id];\n",
              "            }\n",
              "          }\n",
              "        }\n",
              "      });\n",
              "      // Destroy server and session\n",
              "      var cmd = \"import bokeh.io.notebook as ion; ion.destroy_server('\" + server_id + \"')\";\n",
              "      cell.notebook.kernel.execute(cmd);\n",
              "    }\n",
              "  }\n",
              "\n",
              "  /**\n",
              "   * Handle when a new output is added\n",
              "   */\n",
              "  function handleAddOutput(event, handle) {\n",
              "    var output_area = handle.output_area;\n",
              "    var output = handle.output;\n",
              "\n",
              "    // limit handleAddOutput to display_data with EXEC_MIME_TYPE content only\n",
              "    if ((output.output_type != \"display_data\") || (!output.data.hasOwnProperty(EXEC_MIME_TYPE))) {\n",
              "      return\n",
              "    }\n",
              "\n",
              "    var toinsert = output_area.element.find(\".\" + CLASS_NAME.split(' ')[0]);\n",
              "\n",
              "    if (output.metadata[EXEC_MIME_TYPE][\"id\"] !== undefined) {\n",
              "      toinsert[toinsert.length - 1].firstChild.textContent = output.data[JS_MIME_TYPE];\n",
              "      // store reference to embed id on output_area\n",
              "      output_area._bokeh_element_id = output.metadata[EXEC_MIME_TYPE][\"id\"];\n",
              "    }\n",
              "    if (output.metadata[EXEC_MIME_TYPE][\"server_id\"] !== undefined) {\n",
              "      var bk_div = document.createElement(\"div\");\n",
              "      bk_div.innerHTML = output.data[HTML_MIME_TYPE];\n",
              "      var script_attrs = bk_div.children[0].attributes;\n",
              "      for (var i = 0; i < script_attrs.length; i++) {\n",
              "        toinsert[toinsert.length - 1].firstChild.setAttribute(script_attrs[i].name, script_attrs[i].value);\n",
              "        toinsert[toinsert.length - 1].firstChild.textContent = bk_div.children[0].textContent\n",
              "      }\n",
              "      // store reference to server id on output_area\n",
              "      output_area._bokeh_server_id = output.metadata[EXEC_MIME_TYPE][\"server_id\"];\n",
              "    }\n",
              "  }\n",
              "\n",
              "  function register_renderer(events, OutputArea) {\n",
              "\n",
              "    function append_mime(data, metadata, element) {\n",
              "      // create a DOM node to render to\n",
              "      var toinsert = this.create_output_subarea(\n",
              "        metadata,\n",
              "        CLASS_NAME,\n",
              "        EXEC_MIME_TYPE\n",
              "      );\n",
              "      this.keyboard_manager.register_events(toinsert);\n",
              "      // Render to node\n",
              "      var props = {data: data, metadata: metadata[EXEC_MIME_TYPE]};\n",
              "      render(props, toinsert[toinsert.length - 1]);\n",
              "      element.append(toinsert);\n",
              "      return toinsert\n",
              "    }\n",
              "\n",
              "    /* Handle when an output is cleared or removed */\n",
              "    events.on('clear_output.CodeCell', handleClearOutput);\n",
              "    events.on('delete.Cell', handleClearOutput);\n",
              "\n",
              "    /* Handle when a new output is added */\n",
              "    events.on('output_added.OutputArea', handleAddOutput);\n",
              "\n",
              "    /**\n",
              "     * Register the mime type and append_mime function with output_area\n",
              "     */\n",
              "    OutputArea.prototype.register_mime_type(EXEC_MIME_TYPE, append_mime, {\n",
              "      /* Is output safe? */\n",
              "      safe: true,\n",
              "      /* Index of renderer in `output_area.display_order` */\n",
              "      index: 0\n",
              "    });\n",
              "  }\n",
              "\n",
              "  // register the mime type if in Jupyter Notebook environment and previously unregistered\n",
              "  if (root.Jupyter !== undefined) {\n",
              "    var events = require('base/js/events');\n",
              "    var OutputArea = require('notebook/js/outputarea').OutputArea;\n",
              "\n",
              "    if (OutputArea.prototype.mime_types().indexOf(EXEC_MIME_TYPE) == -1) {\n",
              "      register_renderer(events, OutputArea);\n",
              "    }\n",
              "  }\n",
              "\n",
              "  \n",
              "  if (typeof (root._bokeh_timeout) === \"undefined\" || force === true) {\n",
              "    root._bokeh_timeout = Date.now() + 5000;\n",
              "    root._bokeh_failed_load = false;\n",
              "  }\n",
              "\n",
              "  var NB_LOAD_WARNING = {'data': {'text/html':\n",
              "     \"<div style='background-color: #fdd'>\\n\"+\n",
              "     \"<p>\\n\"+\n",
              "     \"BokehJS does not appear to have successfully loaded. If loading BokehJS from CDN, this \\n\"+\n",
              "     \"may be due to a slow or bad network connection. Possible fixes:\\n\"+\n",
              "     \"</p>\\n\"+\n",
              "     \"<ul>\\n\"+\n",
              "     \"<li>re-rerun `output_notebook()` to attempt to load from CDN again, or</li>\\n\"+\n",
              "     \"<li>use INLINE resources instead, as so:</li>\\n\"+\n",
              "     \"</ul>\\n\"+\n",
              "     \"<code>\\n\"+\n",
              "     \"from bokeh.resources import INLINE\\n\"+\n",
              "     \"output_notebook(resources=INLINE)\\n\"+\n",
              "     \"</code>\\n\"+\n",
              "     \"</div>\"}};\n",
              "\n",
              "  function display_loaded() {\n",
              "    var el = document.getElementById(null);\n",
              "    if (el != null) {\n",
              "      el.textContent = \"BokehJS is loading...\";\n",
              "    }\n",
              "    if (root.Bokeh !== undefined) {\n",
              "      if (el != null) {\n",
              "        el.textContent = \"BokehJS \" + root.Bokeh.version + \" successfully loaded.\";\n",
              "      }\n",
              "    } else if (Date.now() < root._bokeh_timeout) {\n",
              "      setTimeout(display_loaded, 100)\n",
              "    }\n",
              "  }\n",
              "\n",
              "\n",
              "  function run_callbacks() {\n",
              "    try {\n",
              "      root._bokeh_onload_callbacks.forEach(function(callback) {\n",
              "        if (callback != null)\n",
              "          callback();\n",
              "      });\n",
              "    } finally {\n",
              "      delete root._bokeh_onload_callbacks\n",
              "    }\n",
              "    console.debug(\"Bokeh: all callbacks have finished\");\n",
              "  }\n",
              "\n",
              "  function load_libs(css_urls, js_urls, callback) {\n",
              "    if (css_urls == null) css_urls = [];\n",
              "    if (js_urls == null) js_urls = [];\n",
              "\n",
              "    root._bokeh_onload_callbacks.push(callback);\n",
              "    if (root._bokeh_is_loading > 0) {\n",
              "      console.debug(\"Bokeh: BokehJS is being loaded, scheduling callback at\", now());\n",
              "      return null;\n",
              "    }\n",
              "    if (js_urls == null || js_urls.length === 0) {\n",
              "      run_callbacks();\n",
              "      return null;\n",
              "    }\n",
              "    console.debug(\"Bokeh: BokehJS not loaded, scheduling load and callback at\", now());\n",
              "    root._bokeh_is_loading = css_urls.length + js_urls.length;\n",
              "\n",
              "    function on_load() {\n",
              "      root._bokeh_is_loading--;\n",
              "      if (root._bokeh_is_loading === 0) {\n",
              "        console.debug(\"Bokeh: all BokehJS libraries/stylesheets loaded\");\n",
              "        run_callbacks()\n",
              "      }\n",
              "    }\n",
              "\n",
              "    function on_error() {\n",
              "      console.error(\"failed to load \" + url);\n",
              "    }\n",
              "\n",
              "    for (var i = 0; i < css_urls.length; i++) {\n",
              "      var url = css_urls[i];\n",
              "      const element = document.createElement(\"link\");\n",
              "      element.onload = on_load;\n",
              "      element.onerror = on_error;\n",
              "      element.rel = \"stylesheet\";\n",
              "      element.type = \"text/css\";\n",
              "      element.href = url;\n",
              "      console.debug(\"Bokeh: injecting link tag for BokehJS stylesheet: \", url);\n",
              "      document.body.appendChild(element);\n",
              "    }\n",
              "\n",
              "    const hashes = {\"https://cdn.bokeh.org/bokeh/release/bokeh-2.1.1.min.js\": \"kLr4fYcqcSpbuI95brIH3vnnYCquzzSxHPU6XGQCIkQRGJwhg0StNbj1eegrHs12\", \"https://cdn.bokeh.org/bokeh/release/bokeh-widgets-2.1.1.min.js\": \"xIGPmVtaOm+z0BqfSOMn4lOR6ciex448GIKG4eE61LsAvmGj48XcMQZtKcE/UXZe\", \"https://cdn.bokeh.org/bokeh/release/bokeh-tables-2.1.1.min.js\": \"Dc9u1wF/0zApGIWoBbH77iWEHtdmkuYWG839Uzmv8y8yBLXebjO9ZnERsde5Ln/P\", \"https://cdn.bokeh.org/bokeh/release/bokeh-gl-2.1.1.min.js\": \"cT9JaBz7GiRXdENrJLZNSC6eMNF3nh3fa5fTF51Svp+ukxPdwcU5kGXGPBgDCa2j\"};\n",
              "\n",
              "    for (var i = 0; i < js_urls.length; i++) {\n",
              "      var url = js_urls[i];\n",
              "      var element = document.createElement('script');\n",
              "      element.onload = on_load;\n",
              "      element.onerror = on_error;\n",
              "      element.async = false;\n",
              "      element.src = url;\n",
              "      if (url in hashes) {\n",
              "        element.crossOrigin = \"anonymous\";\n",
              "        element.integrity = \"sha384-\" + hashes[url];\n",
              "      }\n",
              "      console.debug(\"Bokeh: injecting script tag for BokehJS library: \", url);\n",
              "      document.head.appendChild(element);\n",
              "    }\n",
              "  };\n",
              "\n",
              "  function inject_raw_css(css) {\n",
              "    const element = document.createElement(\"style\");\n",
              "    element.appendChild(document.createTextNode(css));\n",
              "    document.body.appendChild(element);\n",
              "  }\n",
              "\n",
              "  \n",
              "  var js_urls = [\"https://cdn.bokeh.org/bokeh/release/bokeh-2.1.1.min.js\", \"https://cdn.bokeh.org/bokeh/release/bokeh-widgets-2.1.1.min.js\", \"https://cdn.bokeh.org/bokeh/release/bokeh-tables-2.1.1.min.js\", \"https://cdn.bokeh.org/bokeh/release/bokeh-gl-2.1.1.min.js\"];\n",
              "  var css_urls = [];\n",
              "  \n",
              "\n",
              "  var inline_js = [\n",
              "    function(Bokeh) {\n",
              "      Bokeh.set_log_level(\"info\");\n",
              "    },\n",
              "    function(Bokeh) {\n",
              "    \n",
              "    \n",
              "    }\n",
              "  ];\n",
              "\n",
              "  function run_inline_js() {\n",
              "    \n",
              "    if (root.Bokeh !== undefined || force === true) {\n",
              "      \n",
              "    for (var i = 0; i < inline_js.length; i++) {\n",
              "      inline_js[i].call(root, root.Bokeh);\n",
              "    }\n",
              "    } else if (Date.now() < root._bokeh_timeout) {\n",
              "      setTimeout(run_inline_js, 100);\n",
              "    } else if (!root._bokeh_failed_load) {\n",
              "      console.log(\"Bokeh: BokehJS failed to load within specified timeout.\");\n",
              "      root._bokeh_failed_load = true;\n",
              "    } else if (force !== true) {\n",
              "      var cell = $(document.getElementById(null)).parents('.cell').data().cell;\n",
              "      cell.output_area.append_execute_result(NB_LOAD_WARNING)\n",
              "    }\n",
              "\n",
              "  }\n",
              "\n",
              "  if (root._bokeh_is_loading === 0) {\n",
              "    console.debug(\"Bokeh: BokehJS loaded, going straight to plotting\");\n",
              "    run_inline_js();\n",
              "  } else {\n",
              "    load_libs(css_urls, js_urls, function() {\n",
              "      console.debug(\"Bokeh: BokehJS plotting callback run at\", now());\n",
              "      run_inline_js();\n",
              "    });\n",
              "  }\n",
              "}(window));"
            ],
            "application/vnd.bokehjs_load.v0+json": "\n(function(root) {\n  function now() {\n    return new Date();\n  }\n\n  var force = true;\n\n  if (typeof root._bokeh_onload_callbacks === \"undefined\" || force === true) {\n    root._bokeh_onload_callbacks = [];\n    root._bokeh_is_loading = undefined;\n  }\n\n  \n\n  \n  if (typeof (root._bokeh_timeout) === \"undefined\" || force === true) {\n    root._bokeh_timeout = Date.now() + 5000;\n    root._bokeh_failed_load = false;\n  }\n\n  var NB_LOAD_WARNING = {'data': {'text/html':\n     \"<div style='background-color: #fdd'>\\n\"+\n     \"<p>\\n\"+\n     \"BokehJS does not appear to have successfully loaded. If loading BokehJS from CDN, this \\n\"+\n     \"may be due to a slow or bad network connection. Possible fixes:\\n\"+\n     \"</p>\\n\"+\n     \"<ul>\\n\"+\n     \"<li>re-rerun `output_notebook()` to attempt to load from CDN again, or</li>\\n\"+\n     \"<li>use INLINE resources instead, as so:</li>\\n\"+\n     \"</ul>\\n\"+\n     \"<code>\\n\"+\n     \"from bokeh.resources import INLINE\\n\"+\n     \"output_notebook(resources=INLINE)\\n\"+\n     \"</code>\\n\"+\n     \"</div>\"}};\n\n  function display_loaded() {\n    var el = document.getElementById(null);\n    if (el != null) {\n      el.textContent = \"BokehJS is loading...\";\n    }\n    if (root.Bokeh !== undefined) {\n      if (el != null) {\n        el.textContent = \"BokehJS \" + root.Bokeh.version + \" successfully loaded.\";\n      }\n    } else if (Date.now() < root._bokeh_timeout) {\n      setTimeout(display_loaded, 100)\n    }\n  }\n\n\n  function run_callbacks() {\n    try {\n      root._bokeh_onload_callbacks.forEach(function(callback) {\n        if (callback != null)\n          callback();\n      });\n    } finally {\n      delete root._bokeh_onload_callbacks\n    }\n    console.debug(\"Bokeh: all callbacks have finished\");\n  }\n\n  function load_libs(css_urls, js_urls, callback) {\n    if (css_urls == null) css_urls = [];\n    if (js_urls == null) js_urls = [];\n\n    root._bokeh_onload_callbacks.push(callback);\n    if (root._bokeh_is_loading > 0) {\n      console.debug(\"Bokeh: BokehJS is being loaded, scheduling callback at\", now());\n      return null;\n    }\n    if (js_urls == null || js_urls.length === 0) {\n      run_callbacks();\n      return null;\n    }\n    console.debug(\"Bokeh: BokehJS not loaded, scheduling load and callback at\", now());\n    root._bokeh_is_loading = css_urls.length + js_urls.length;\n\n    function on_load() {\n      root._bokeh_is_loading--;\n      if (root._bokeh_is_loading === 0) {\n        console.debug(\"Bokeh: all BokehJS libraries/stylesheets loaded\");\n        run_callbacks()\n      }\n    }\n\n    function on_error() {\n      console.error(\"failed to load \" + url);\n    }\n\n    for (var i = 0; i < css_urls.length; i++) {\n      var url = css_urls[i];\n      const element = document.createElement(\"link\");\n      element.onload = on_load;\n      element.onerror = on_error;\n      element.rel = \"stylesheet\";\n      element.type = \"text/css\";\n      element.href = url;\n      console.debug(\"Bokeh: injecting link tag for BokehJS stylesheet: \", url);\n      document.body.appendChild(element);\n    }\n\n    const hashes = {\"https://cdn.bokeh.org/bokeh/release/bokeh-2.1.1.min.js\": \"kLr4fYcqcSpbuI95brIH3vnnYCquzzSxHPU6XGQCIkQRGJwhg0StNbj1eegrHs12\", \"https://cdn.bokeh.org/bokeh/release/bokeh-widgets-2.1.1.min.js\": \"xIGPmVtaOm+z0BqfSOMn4lOR6ciex448GIKG4eE61LsAvmGj48XcMQZtKcE/UXZe\", \"https://cdn.bokeh.org/bokeh/release/bokeh-tables-2.1.1.min.js\": \"Dc9u1wF/0zApGIWoBbH77iWEHtdmkuYWG839Uzmv8y8yBLXebjO9ZnERsde5Ln/P\", \"https://cdn.bokeh.org/bokeh/release/bokeh-gl-2.1.1.min.js\": \"cT9JaBz7GiRXdENrJLZNSC6eMNF3nh3fa5fTF51Svp+ukxPdwcU5kGXGPBgDCa2j\"};\n\n    for (var i = 0; i < js_urls.length; i++) {\n      var url = js_urls[i];\n      var element = document.createElement('script');\n      element.onload = on_load;\n      element.onerror = on_error;\n      element.async = false;\n      element.src = url;\n      if (url in hashes) {\n        element.crossOrigin = \"anonymous\";\n        element.integrity = \"sha384-\" + hashes[url];\n      }\n      console.debug(\"Bokeh: injecting script tag for BokehJS library: \", url);\n      document.head.appendChild(element);\n    }\n  };\n\n  function inject_raw_css(css) {\n    const element = document.createElement(\"style\");\n    element.appendChild(document.createTextNode(css));\n    document.body.appendChild(element);\n  }\n\n  \n  var js_urls = [\"https://cdn.bokeh.org/bokeh/release/bokeh-2.1.1.min.js\", \"https://cdn.bokeh.org/bokeh/release/bokeh-widgets-2.1.1.min.js\", \"https://cdn.bokeh.org/bokeh/release/bokeh-tables-2.1.1.min.js\", \"https://cdn.bokeh.org/bokeh/release/bokeh-gl-2.1.1.min.js\"];\n  var css_urls = [];\n  \n\n  var inline_js = [\n    function(Bokeh) {\n      Bokeh.set_log_level(\"info\");\n    },\n    function(Bokeh) {\n    \n    \n    }\n  ];\n\n  function run_inline_js() {\n    \n    if (root.Bokeh !== undefined || force === true) {\n      \n    for (var i = 0; i < inline_js.length; i++) {\n      inline_js[i].call(root, root.Bokeh);\n    }\n    } else if (Date.now() < root._bokeh_timeout) {\n      setTimeout(run_inline_js, 100);\n    } else if (!root._bokeh_failed_load) {\n      console.log(\"Bokeh: BokehJS failed to load within specified timeout.\");\n      root._bokeh_failed_load = true;\n    } else if (force !== true) {\n      var cell = $(document.getElementById(null)).parents('.cell').data().cell;\n      cell.output_area.append_execute_result(NB_LOAD_WARNING)\n    }\n\n  }\n\n  if (root._bokeh_is_loading === 0) {\n    console.debug(\"Bokeh: BokehJS loaded, going straight to plotting\");\n    run_inline_js();\n  } else {\n    load_libs(css_urls, js_urls, function() {\n      console.debug(\"Bokeh: BokehJS plotting callback run at\", now());\n      run_inline_js();\n    });\n  }\n}(window));"
          },
          "metadata": {
            "tags": []
          }
        },
        {
          "output_type": "display_data",
          "data": {
            "text/html": [
              "\n",
              "\n",
              "\n",
              "\n",
              "\n",
              "\n",
              "  <div class=\"bk-root\" id=\"f1cb7599-3155-4863-beff-010f9873d59f\" data-root-id=\"1916\"></div>\n"
            ]
          },
          "metadata": {
            "tags": []
          }
        },
        {
          "output_type": "display_data",
          "data": {
            "application/javascript": [
              "(function(root) {\n",
              "  function embed_document(root) {\n",
              "    \n",
              "  var docs_json = {\"12d5bc2a-b1b3-415f-8534-27004c179714\":{\"roots\":{\"references\":[{\"attributes\":{\"children\":[{\"id\":\"1915\"},{\"id\":\"1913\"}]},\"id\":\"1916\",\"type\":\"Column\"},{\"attributes\":{\"formatter\":{\"id\":\"1891\"},\"ticker\":{\"id\":\"1795\"}},\"id\":\"1794\",\"type\":\"LinearAxis\"},{\"attributes\":{},\"id\":\"1898\",\"type\":\"UnionRenderers\"},{\"attributes\":{\"fill_alpha\":{\"value\":0.1},\"fill_color\":{\"value\":\"#1f77b4\"},\"line_alpha\":{\"value\":0.1},\"line_color\":{\"value\":\"#1f77b4\"},\"x\":{\"field\":\"x\"},\"y\":{\"field\":\"y\"}},\"id\":\"1773\",\"type\":\"Scatter\"},{\"attributes\":{},\"id\":\"1899\",\"type\":\"Selection\"},{\"attributes\":{\"data\":{\"x\":{\"__ndarray__\":\"AAAAAAAACMCbYaor59YHwDbDVFfOrQfA0ST/grWEB8BshqmunFsHwAfoU9qDMgfAokn+BWsJB8A9q6gxUuAGwNgMU105twbAc279iCCOBsAO0Ke0B2UGwKkxUuDuOwbARJP8C9YSBsDf9KY3vekFwHpWUWOkwAXAFLj7jouXBcCwGaa6cm4FwEp7UOZZRQXA5tz6EUEcBcCAPqU9KPMEwBugT2kPygTAtgH6lPagBMBRY6TA3XcEwOzETuzETgTAhyb5F6wlBMAiiKNDk/wDwL3pTW960wPAWEv4mmGqA8DzrKLGSIEDwI4OTfIvWAPAKXD3HRcvA8DE0aFJ/gUDwF8zTHXl3ALA+pT2oMyzAsCV9qDMs4oCwDBYS/iaYQLAy7n1I4I4AsBmG6BPaQ8CwAF9SntQ5gHAnN70pje9AcA3QJ/SHpQBwNKhSf4FawHAbQP0Ke1BAcAIZZ5V1BgBwKLGSIG77wDAPijzrKLGAMDYiZ3YiZ0AwHTrRwRxdADADk3yL1hLAMCqrpxbPyIAwIkgjg5N8v+/v+PiZRug/7/1pje96U3/vytqjBS4+/6/YS3ha4ap/r+X8DXDVFf+v8yzihojBf6/AnffcfGy/b84OjTJv2D9v279iCCODv2/pMDdd1y8/L/agzLPKmr8vxBHhyb5F/y/RgrcfcfF+798zTDVlXP7v7KQhSxkIfu/6FPagzLP+r8eFy/bAH36v1TagzLPKvq/ip3YiZ3Y+b/AYC3ha4b5v/Yjgjg6NPm/LOfWjwji+L9hqivn1o/4v5dtgD6lPfi/zTDVlXPr978D9CntQZn3vzm3fkQQR/e/b3rTm9709r+lPSjzrKL2v9sAfUp7UPa/EcTRoUn+9b9Hhyb5F6z1v31Ke1DmWfW/sw3Qp7QH9b/p0CT/grX0vx+UeVZRY/S/VVfOrR8R9L+KGiMF7r7zv8Ddd1y8bPO/9qDMs4oa878sZCELWcjyv2IndmIndvK/mOrKufUj8r/OrR8RxNHxvwRxdGiSf/G/OjTJv2At8b9w9x0XL9vwv6a6cm79iPC/3H3Hxcs28L8kgjg6NMnvv5AI4ujQJO+//I6Ll22A7r9oFTVGCtztv9Sb3vSmN+2/QCKIo0OT7L+sqDFS4O7rvxgv2wB9Suu/hLWErxmm6r/wOy5etgHqv1zC1wxTXem/yEiBu++46L8wzypqjBTov5xV1BgpcOe/CNx9x8XL5r90Yid2Yifmv+Do0CT/guW/TG9605ve5L+49SOCODrkvyR8zTDVleO/kAJ333Hx4r/8iCCODk3iv2gPyjyrqOG/1JVz60cE4b9AHB2a5F/gv1hFjZECd9+/MFLg7jsu3r8IXzNMdeXcv+BrhqmunNu/uHjZBuhT2r+QhSxkIQvZv2iSf8Fawte/QJ/SHpR51r8YrCV8zTDVv/C4eNkG6NO/yMXLNkCf0r+g0h6UeVbRv3jfcfGyDdC/oNiJndiJzb9Q8i9YS/jKvwAM1hK+Zsi/sCV8zTDVxb9gPyKIo0PDvxBZyEIWssC/gOXc+hFBvL/AGClw9x23vyBMdeXc+rG/AP+CtYSvqb+AyzZAn9KevwAyzypqjIS/ADPPKmqMhD8AzDZAn9KeP0D/grWEr6k/QEx15dz6sT/gGClw9x23P4Dl3PoRQbw/EFnIQhaywD9gPyKIo0PDP7AlfM0w1cU/AAzWEr5myD9Q8i9YS/jKP6DYiZ3Yic0/eN9x8bIN0D+g0h6UeVbRP8jFyzZAn9I/8Lh42Qbo0z8YrCV8zTDVP0Cf0h6UedY/aJJ/wVrC1z+QhSxkIQvZP7h42QboU9o/4GuGqa6c2z8IXzNMdeXcPzBS4O47Lt4/WEWNkQJ33z9AHB2a5F/gP9iVc+tHBOE/bA/KPKuo4T8AiSCODk3iP5QCd99x8eI/KHzNMNWV4z+89SOCODrkP1BvetOb3uQ/5OjQJP+C5T94Yid2YifmPwzcfcfFy+Y/oFXUGClw5z80zypqjBToP8hIgbvvuOg/XMLXDFNd6T/wOy5etgHqP4S1hK8Zpuo/GC/bAH1K6z+sqDFS4O7rP0AiiKNDk+w/1Jve9KY37T9oFTVGCtztP/yOi5dtgO4/kAji6NAk7z8kgjg6NMnvP9x9x8XLNvA/qLpybv2I8D9w9x0XL9vwPzw0yb9gLfE/BHF0aJJ/8T/QrR8RxNHxP5jqyrn1I/I/ZCd2Yid28j8sZCELWcjyP/igzLOKGvM/wN13XLxs8z+MGiMF7r7zP1RXzq0fEfQ/IJR5VlFj9D/o0CT/grX0P7QN0Ke0B/U/fEp7UOZZ9T9Ihyb5F6z1PxDE0aFJ/vU/3AB9SntQ9j+kPSjzrKL2P3B605ve9PY/OLd+RBBH9z8E9CntQZn3P9Aw1ZVz6/c/mG2APqU9+D9kqivn1o/4Pyzn1o8I4vg/+COCODo0+T/AYC3ha4b5P4yd2Imd2Pk/VNqDMs8q+j8gFy/bAH36P+hT2oMyz/o/tJCFLGQh+z98zTDVlXP7P0gK3H3Hxfs/EEeHJvkX/D/cgzLPKmr8P6TA3XdcvPw/cP2III4O/T84OjTJv2D9PwR333Hxsv0/zLOKGiMF/j+Y8DXDVFf+P2At4WuGqf4/LGqMFLj7/j/0pje96U3/P8Dj4mUboP8/iCCODk3y/z+qrpxbPyIAQA5N8i9YSwBAdOtHBHF0AEDYiZ3YiZ0AQD4o86yixgBAosZIgbvvAEAIZZ5V1BgBQG4D9CntQQFA0qFJ/gVrAUA4QJ/SHpQBQJze9KY3vQFAAn1Ke1DmAUBmG6BPaQ8CQMy59SOCOAJAMFhL+JphAkCW9qDMs4oCQPqU9qDMswJAYDNMdeXcAkDE0aFJ/gUDQCpw9x0XLwNAjg5N8i9YA0D0rKLGSIEDQFhL+JphqgNAvulNb3rTA0AiiKNDk/wDQIgm+ResJQRA7MRO7MROBEBSY6TA3XcEQLYB+pT2oARAHKBPaQ/KBECAPqU9KPMEQObc+hFBHAVASntQ5llFBUCwGaa6cm4FQBS4+46LlwVAelZRY6TABUDe9KY3vekFQEST/AvWEgZAqDFS4O47BkAO0Ke0B2UGQHRu/YggjgZA2AxTXTm3BkA+q6gxUuAGQKJJ/gVrCQdACOhT2oMyB0BshqmunFsHQNIk/4K1hAdANsNUV86tB0CcYaor59YHQAAAAAAAAAhA\",\"dtype\":\"float64\",\"order\":\"little\",\"shape\":[300]},\"y\":[2.200500102264497,2.179671107554985,2.158791850531501,2.137865473668164,2.116895172679844,2.0958841952644267,2.074835839820068,2.0537534541375573,2.032640434068689,2.0115002221704685,1.9903363063258952,1.9691522183411356,1.9479515325192678,1.9267378642104214,1.9055148683382934,1.8842862379026284,1.8630557024573395,1.8418270265638288,1.8206040082188781,1.7993904772565095,1.778190293723016,1.7570073462243723,1.735845550245091,1.7147088464375146,1.693601198880558,1.6725265933067182,1.6514890352962106,1.6304925484370791,1.6095411724498772,1.5886389612758498,1.5677899811271858,1.5469983084980439,1.5262680281352066,1.5056032309668907,1.4850080119886362,1.4644864681050211,1.4440426959260904,1.4236807895173573,1.4034048381025988,1.3832189237183516,1.3631271188195861,1.3431334838358608,1.3232420646774925,1.3034568901916324,1.2837819695680448,1.2642212896948777,1.2447788124647314,1.22545847203181,1.2062641720209568,1.187199782689956,1.1682691380465933,1.1494760329223768,1.1308242200052052,1.1123174068336152,1.0939592527556286,1.0757533658556633,1.0577032998533484,1.0398125509785665,1.0220845548274808,1.0045226832047782,0.9871302409577573,0.9699104628085002,0.9528665101906847,0.9360014680981937,0.9193183419530588,0.9028200545007691,0.8865094427414626,0.8703892549058456,0.8544621474852134,0.8387306823252382,0.8231973237936048,0.8078644360318639,0.7927342803021515,0.7778090124397188,0.7630906804222907,0.7485812220675474,0.7342824628699975,0.7201961139885493,0.7063237703961097,0.6926669092022975,0.6792268881602819,0.6660049443684293,0.6530021931771124,0.6402196273106202,0.6276581162135916,0.6153184056308486,0.6032011174287634,0.5913067496656954,0.5796356769180382,0.5681881508676988,0.5569643011557633,0.5459641365061279,0.5351875461217963,0.5246343013553948,0.5143040576542992,0.5041963567795474,0.49431062929645886,0.48464619733366315,0.475202277605904,0.4659779846947832,0.4569723345803034,0.4481842484148532,0.4396125565300577,0.4312560026657625,0.42311324840929765,0.41518287783212227,0.4074634023099455,0.3999532655115554,0.39265084854072524,0.3855544752148674,0.37866241746347973,0.3719729008288994,0.36548411005146453,0.35919419472090364,0.35310127497555654,0.3472034472309751,0.3414987899194823,0.3359853692224206,0.3306612447770612,0.32552447534052975,0.3205731243935295,0.3158052656672201,0.31121898857721747,0.3068124035494122,0.30258364722305753,0.2985308875174427,0.2946523285493323,0.2909462153892921,0.28741083864597755,0.28404453886844827,0.28084571075755044,0.27781280717842116,0.2749443429671379,0.2722388985255266,0.2696951231990766,0.26731173843383627,0.2650875407090445,0.2630214042430853,0.2611122834711495,0.259359215293716,0.2577613210956517,0.25631780853635255,0.25502797311190023,0.25389119949072075,0.25290696262466733,0.2520748286378313,0.2513944554957036,0.2508655934575817,0.250488085315331,0.2502618664217656,0.25018696451205,0.25026349932158753,0.25049168200392125,0.2508718143521754,0.25140428782757523,0.25208958239853674,0.2529282651938,0.25392098897301496,0.2550684904181672,0.25637158824916084,0.25783118116687603,0.2594482456269751,0.2612238334477544,0.2631590692553604,0.2652551477697378,0.2675133309347717,0.26993494489620273,0.2725213768310465,0.27527407163243495,0.27819452845403914,0.2812842971184818,0.2845449743944588,0.2879782001476228,0.2915856533706541,0.29536904809833353,0.2993301292138777,0.30347066815322155,0.3077924585144287,0.31229731157986773,0.31698705175929925,0.3218635119625063,0.326928528910589,0.3321839383955302,0.3376315704980998,0.34327324477461174,0.3491107654234623,0.3551459164427655,0.3613804567907314,0.3678161155607417,0.37445458718332203,0.38129752666739397,0.38834654489332443,0.3956032039703725,0.4030690126711108,0.41074542195536606,0.4186338205960579,0.4267355309191378,0.43505180466954535,0.4435838190147485,0.45233267269703914,0.46129938234527035,0.47048487895618646,0.47989000455488834,0.4895155090433536,0.49936204724518685,0.509430176154066,0.5197203523925494,0.5302329298870826,0.5409681577642143,0.5519261784721508,0.5631070261309095,0.5745106251134331,0.5861367888591529,0.5979852189205979,0.6100555042427623,0.6223471206741419,0.6348594307074334,0.6475916834471916,0.6605430148008793,0.6737124478890858,0.6870988936699387,0.7007011517721449,0.7145179115304596,0.7285477532168563,0.7427891494601482,0.7572404668464117,0.7718999676921323,0.786765811981664,0.801836059460332,0.8171086718742461,0.8325815153477509,0.8482523628892574,0.8641188970161808,0.880178712489623,0.8964293191494881,0.912868144840737,0.9294925384216023,0.9462997728446947,0.9632870483021081,0.9804514954258013,0.9977901785347585,1.015300098920683,1.0329781981642079,1.0508213614739308,1.068826421040848,1.0869901594010505,1.105309312799925,1.1237805745513603,1.1424005983858228,1.1611660017815175,1.1800733692731247,1.1991192557329957,1.2183001896199945,1.2376126761914819,1.2570532006743211,1.2766182313909828,1.2963042228372843,1.3161076187084313,1.3360248548704683,1.3560523622744003,1.3761865698105948,1.3964239071012583,1.4167608072291142,1.4371937094005227,1.4577190615416291,1.4783333228262165,1.4990329661342152,1.5198144804399845,1.540674373129633,1.5616091722468313,1.5826154286666858,1.6036897181974645,1.6248286436099644,1.6460288365945905,1.667286959646131,1.6885997078765638,1.709963810756082,1.7313760337827482,1.75283318008125,1.774332091931305,1.795869652226236,1.8174427858624664,1.8390484610605604,1.8606836906186788,1.88234553309908,1.9040310939487004,1.9257375265545322,1.94746203323483,1.9692018661669644,1.9909543282530238,2.012716773923975,2.034486609883535,2.056261295792754,2.078038344896205,2.0998153245910554,2.121589856939874,2.1433596191283586,2.165122343869073,2.1868758197522142,2.2086178915445362]},\"selected\":{\"id\":\"1887\"},\"selection_policy\":{\"id\":\"1886\"}},\"id\":\"1776\",\"type\":\"ColumnDataSource\"},{\"attributes\":{},\"id\":\"1903\",\"type\":\"BasicTickFormatter\"},{\"attributes\":{},\"id\":\"1795\",\"type\":\"BasicTicker\"},{\"attributes\":{},\"id\":\"1905\",\"type\":\"BasicTickFormatter\"},{\"attributes\":{},\"id\":\"1908\",\"type\":\"UnionRenderers\"},{\"attributes\":{},\"id\":\"1761\",\"type\":\"HelpTool\"},{\"attributes\":{},\"id\":\"1909\",\"type\":\"Selection\"},{\"attributes\":{\"active_drag\":\"auto\",\"active_inspect\":\"auto\",\"active_multi\":null,\"active_scroll\":\"auto\",\"active_tap\":\"auto\",\"tools\":[{\"id\":\"1756\"},{\"id\":\"1757\"},{\"id\":\"1758\"},{\"id\":\"1759\"},{\"id\":\"1760\"},{\"id\":\"1761\"}]},\"id\":\"1763\",\"type\":\"Toolbar\"},{\"attributes\":{},\"id\":\"1910\",\"type\":\"UnionRenderers\"},{\"attributes\":{\"data_source\":{\"id\":\"1771\"},\"glyph\":{\"id\":\"1772\"},\"hover_glyph\":null,\"muted_glyph\":null,\"nonselection_glyph\":{\"id\":\"1773\"},\"selection_glyph\":null,\"view\":{\"id\":\"1775\"}},\"id\":\"1774\",\"type\":\"GlyphRenderer\"},{\"attributes\":{\"fill_alpha\":{\"value\":0.3},\"fill_color\":{\"value\":\"#1f77b4\"},\"line_alpha\":{\"value\":0.3},\"line_color\":{\"value\":\"#1f77b4\"},\"x\":{\"field\":\"x\"},\"y\":{\"field\":\"y\"}},\"id\":\"1772\",\"type\":\"Scatter\"},{\"attributes\":{},\"id\":\"1911\",\"type\":\"Selection\"},{\"attributes\":{\"bottom_units\":\"screen\",\"fill_alpha\":0.5,\"fill_color\":\"lightgrey\",\"left_units\":\"screen\",\"level\":\"overlay\",\"line_alpha\":1.0,\"line_color\":\"black\",\"line_dash\":[4,4],\"line_width\":2,\"right_units\":\"screen\",\"top_units\":\"screen\"},\"id\":\"1720\",\"type\":\"BoxAnnotation\"},{\"attributes\":{\"source\":{\"id\":\"1771\"}},\"id\":\"1775\",\"type\":\"CDSView\"},{\"attributes\":{\"toolbars\":[{\"id\":\"1721\"},{\"id\":\"1763\"},{\"id\":\"1805\"},{\"id\":\"1847\"}],\"tools\":[{\"id\":\"1714\"},{\"id\":\"1715\"},{\"id\":\"1716\"},{\"id\":\"1717\"},{\"id\":\"1718\"},{\"id\":\"1719\"},{\"id\":\"1756\"},{\"id\":\"1757\"},{\"id\":\"1758\"},{\"id\":\"1759\"},{\"id\":\"1760\"},{\"id\":\"1761\"},{\"id\":\"1798\"},{\"id\":\"1799\"},{\"id\":\"1800\"},{\"id\":\"1801\"},{\"id\":\"1802\"},{\"id\":\"1803\"},{\"id\":\"1840\"},{\"id\":\"1841\"},{\"id\":\"1842\"},{\"id\":\"1843\"},{\"id\":\"1844\"},{\"id\":\"1845\"}]},\"id\":\"1914\",\"type\":\"ProxyToolbar\"},{\"attributes\":{\"bottom_units\":\"screen\",\"fill_alpha\":0.5,\"fill_color\":\"lightgrey\",\"left_units\":\"screen\",\"level\":\"overlay\",\"line_alpha\":1.0,\"line_color\":\"black\",\"line_dash\":[4,4],\"line_width\":2,\"right_units\":\"screen\",\"top_units\":\"screen\"},\"id\":\"1762\",\"type\":\"BoxAnnotation\"},{\"attributes\":{\"toolbar\":{\"id\":\"1914\"},\"toolbar_location\":\"above\"},\"id\":\"1915\",\"type\":\"ToolbarBox\"},{\"attributes\":{\"data_source\":{\"id\":\"1776\"},\"glyph\":{\"id\":\"1777\"},\"hover_glyph\":null,\"muted_glyph\":null,\"nonselection_glyph\":{\"id\":\"1778\"},\"selection_glyph\":null,\"view\":{\"id\":\"1780\"}},\"id\":\"1779\",\"type\":\"GlyphRenderer\"},{\"attributes\":{\"source\":{\"id\":\"1776\"}},\"id\":\"1780\",\"type\":\"CDSView\"},{\"attributes\":{\"below\":[{\"id\":\"1790\"}],\"center\":[{\"id\":\"1793\"},{\"id\":\"1797\"}],\"left\":[{\"id\":\"1794\"}],\"plot_height\":400,\"plot_width\":400,\"renderers\":[{\"id\":\"1816\"},{\"id\":\"1821\"}],\"title\":{\"id\":\"1812\"},\"toolbar\":{\"id\":\"1805\"},\"toolbar_location\":null,\"x_range\":{\"id\":\"1782\"},\"x_scale\":{\"id\":\"1786\"},\"y_range\":{\"id\":\"1784\"},\"y_scale\":{\"id\":\"1788\"}},\"id\":\"1781\",\"subtype\":\"Figure\",\"type\":\"Plot\"},{\"attributes\":{\"line_alpha\":0.1,\"line_color\":\"red\",\"line_width\":2,\"x\":{\"field\":\"x\"},\"y\":{\"field\":\"y\"}},\"id\":\"1778\",\"type\":\"Line\"},{\"attributes\":{\"line_color\":\"red\",\"line_width\":2,\"x\":{\"field\":\"x\"},\"y\":{\"field\":\"y\"}},\"id\":\"1777\",\"type\":\"Line\"},{\"attributes\":{},\"id\":\"1740\",\"type\":\"DataRange1d\"},{\"attributes\":{},\"id\":\"1782\",\"type\":\"DataRange1d\"},{\"attributes\":{\"text\":\"tau=1\"},\"id\":\"1770\",\"type\":\"Title\"},{\"attributes\":{\"axis\":{\"id\":\"1752\"},\"dimension\":1,\"ticker\":null},\"id\":\"1755\",\"type\":\"Grid\"},{\"attributes\":{\"formatter\":{\"id\":\"1881\"},\"ticker\":{\"id\":\"1749\"}},\"id\":\"1748\",\"type\":\"LinearAxis\"},{\"attributes\":{},\"id\":\"1756\",\"type\":\"PanTool\"},{\"attributes\":{},\"id\":\"1746\",\"type\":\"LinearScale\"},{\"attributes\":{},\"id\":\"1784\",\"type\":\"DataRange1d\"},{\"attributes\":{\"axis\":{\"id\":\"1794\"},\"dimension\":1,\"ticker\":null},\"id\":\"1797\",\"type\":\"Grid\"},{\"attributes\":{},\"id\":\"1757\",\"type\":\"WheelZoomTool\"},{\"attributes\":{\"overlay\":{\"id\":\"1762\"}},\"id\":\"1758\",\"type\":\"BoxZoomTool\"},{\"attributes\":{},\"id\":\"1759\",\"type\":\"SaveTool\"},{\"attributes\":{\"data\":{\"x\":{\"__ndarray__\":\"08FrqbchCMDyat+WIb4IwP+GmQ2iVgXAqH9IWomvB8DePWKb+a8FwBfdCX1J2gPAWAiMpK64A8CNdJ23Aw8FwFfKC5MbwATAtBFjAjBVA8CmvWUS6IMDwNjHEypajgPAhczGeTQ1AsDGJtYWCq8BwAZm1YnjJADADnrldhyHAcDeWMGUQB8AwH0zAS5lUADAZdbYuBoXAcBLVeDvb078v7btWc/nr/q/1Svvfm5c+r+VlPWJlHD4v+jW2aT0Tfi/jlGSzr+I979esDKoQaX2v+rp6/0XUvK/FgX6ARn/9b/SJMyNMy/zv4asaFczPvK/R/P50REB9L8RIQOznEvzvyRRa7cEY++/3yZsJ2Gj878jSXyvdsPxv2DwOlXCquu/MNk23X7F7L/M0MNxuLPlv1LOwMxM1ue/D8hELmPc479RRMJfOGzhv43PYJrpRN2/yrm1KFWD3L95mWdRFXDgvz9uSsj4F9G/4rFbOFPp1L8KfrXzrJ7Iv/1PTcQe8NO/VPl+6Tedub9DAf/qPzqSv6xy2+K24ZK/2vEov7yrxD8mQ/pdg6iuP1BH8QUsosE/fOCGLai2yj9x49+I9Y3VP05RtAljUN0/c5VY8EI73D8qibu1CYbkP3TqPDRspuE/qOnmPchw5T96LIU8trjoP3wjO2r5Zus/nlgMhMqM7j+CvYchk3DrP58w3mrMcfE/L6LL831y7z8+Nt13ShXwP0hW0NQ06ek/mrJWCCPX8D8fPK+NapDzPywD77CcWPU/5nFHupz79D+OQ7D64TX2P6/EYslUHfc/lVEvYR7H+T9eokHQyyH7P63HliBOSPk/STS9J/nS/D9bx6Kkcn/7P/3/Aaa6ofw/3snDf6TY/T9+02hHZFT/P+9t7Wes1QBAMVPDu6cvAkAtPAHcI8MAQHh/pfhcBgFAub65ZKHeAUDPVuuAPEcDQF8eDSlYJQVArqM1TFF5A0DRHmrJdUsEQO4av5i8bQVAHc2FWittBEA5kFEvyosGQL2apS7gpQZAXiDbAty7BUD0l/P3S80FQI+HMMw69gZAC849hGiUB0A=\",\"dtype\":\"float64\",\"order\":\"little\",\"shape\":[100]},\"y\":{\"__ndarray__\":\"/vA7AtseAUCRdrJLPMYAQOeYsiKKawBAEVHMs6kOAEB87BUA/F7/P7L1CzvPm/4/CMnc3IjT/T+eSJ6Z3gX9P/XOm1F/Mvw/GSNqLRJZ+z9cqMqSNXn6P8sI4+l9kvk/lekRKHSk+D+UU7gSlK73P3fOZyhKsPY/Sp+nGfGo9T+rdmazzpf0P9HRZhMQfPM/EX1V8cRU8j/Iw/iz2SDxP/GMftwfvu8/E84Rb+kb7T8ba4wsqFfqP+tIpbBQbec/r+LTSgdY5D/5TRlm4hHhPyM6LhwoJ9s/dAZpv9qn0z+2MxDolhzHP8Y5ZNPs26U/15FU4hHqu7+jRSetps7Rv6HxBnqMF96/7zn6/kIu5r+yEB0aTdnev2BSrqw0V9S/PJNl8dDCx7/HwHUl46izvztP4be18Yw/NcaAqyY+tz8FyllzwO7DPwpMM8JC+so/G7T6kAl30D8Sk9uE0/XSP2rdD+w1BtU/3/cPQ+Cx1j9ZwQT8JQDYP/Adw6hz9tg/Lkpj6p6Y2T/fzpV1G+nZP9/OlXUb6dk/Lkpj6p6Y2T/wHcOoc/bYP1PBBPwlANg/3/cPQ+Cx1j9o3Q/sNQbVPxKT24TT9dI/G7T6kAl30D8KTDPCQvrKPwXKWXPA7sM/CsaAqyY+tz8/TuG3tfGMP/vAdSXjqLO/PJNl8dDCx79gUq6sNFfUv7IQHRpN2d6/7zn6/kIu5r+h8QZ6jBfev6NFJ62mztG/15FU4hHqu79qOWTT7NulP6IzEOiWHMc/awZpv9qn0z8zOi4cKCfbPwBOGWbiEeE/teLTSgdY5D/wSKWwUG3nPyBrjCyoV+o/F84Rb+kb7T/0jH7cH77vP8nD+LPZIPE/EX1V8cRU8j/R0WYTEHzzP6t2ZrPOl/Q/Sp+nGfGo9T93zmcoSrD2P5RTuBKUrvc/lekRKHSk+D/PCOPpfZL5P12oypI1efo/GyNqLRJZ+z/3zptRfzL8P59InpneBf0/Ccnc3IjT/T+09Qs7z5v+P3zsFQD8Xv8/EVHMs6kOAEDnmLIiimsAQJF2sks8xgBA/vA7AtseAUA=\",\"dtype\":\"float64\",\"order\":\"little\",\"shape\":[100]}},\"selected\":{\"id\":\"1885\"},\"selection_policy\":{\"id\":\"1884\"}},\"id\":\"1771\",\"type\":\"ColumnDataSource\"},{\"attributes\":{\"data\":{\"x\":{\"__ndarray__\":\"08FrqbchCMDyat+WIb4IwP+GmQ2iVgXAqH9IWomvB8DePWKb+a8FwBfdCX1J2gPAWAiMpK64A8CNdJ23Aw8FwFfKC5MbwATAtBFjAjBVA8CmvWUS6IMDwNjHEypajgPAhczGeTQ1AsDGJtYWCq8BwAZm1YnjJADADnrldhyHAcDeWMGUQB8AwH0zAS5lUADAZdbYuBoXAcBLVeDvb078v7btWc/nr/q/1Svvfm5c+r+VlPWJlHD4v+jW2aT0Tfi/jlGSzr+I979esDKoQaX2v+rp6/0XUvK/FgX6ARn/9b/SJMyNMy/zv4asaFczPvK/R/P50REB9L8RIQOznEvzvyRRa7cEY++/3yZsJ2Gj878jSXyvdsPxv2DwOlXCquu/MNk23X7F7L/M0MNxuLPlv1LOwMxM1ue/D8hELmPc479RRMJfOGzhv43PYJrpRN2/yrm1KFWD3L95mWdRFXDgvz9uSsj4F9G/4rFbOFPp1L8KfrXzrJ7Iv/1PTcQe8NO/VPl+6Tedub9DAf/qPzqSv6xy2+K24ZK/2vEov7yrxD8mQ/pdg6iuP1BH8QUsosE/fOCGLai2yj9x49+I9Y3VP05RtAljUN0/c5VY8EI73D8qibu1CYbkP3TqPDRspuE/qOnmPchw5T96LIU8trjoP3wjO2r5Zus/nlgMhMqM7j+CvYchk3DrP58w3mrMcfE/L6LL831y7z8+Nt13ShXwP0hW0NQ06ek/mrJWCCPX8D8fPK+NapDzPywD77CcWPU/5nFHupz79D+OQ7D64TX2P6/EYslUHfc/lVEvYR7H+T9eokHQyyH7P63HliBOSPk/STS9J/nS/D9bx6Kkcn/7P/3/Aaa6ofw/3snDf6TY/T9+02hHZFT/P+9t7Wes1QBAMVPDu6cvAkAtPAHcI8MAQHh/pfhcBgFAub65ZKHeAUDPVuuAPEcDQF8eDSlYJQVArqM1TFF5A0DRHmrJdUsEQO4av5i8bQVAHc2FWittBEA5kFEvyosGQL2apS7gpQZAXiDbAty7BUD0l/P3S80FQI+HMMw69gZAC849hGiUB0A=\",\"dtype\":\"float64\",\"order\":\"little\",\"shape\":[100]},\"y\":{\"__ndarray__\":\"/vA7AtseAUCRdrJLPMYAQOeYsiKKawBAEVHMs6kOAEB87BUA/F7/P7L1CzvPm/4/CMnc3IjT/T+eSJ6Z3gX9P/XOm1F/Mvw/GSNqLRJZ+z9cqMqSNXn6P8sI4+l9kvk/lekRKHSk+D+UU7gSlK73P3fOZyhKsPY/Sp+nGfGo9T+rdmazzpf0P9HRZhMQfPM/EX1V8cRU8j/Iw/iz2SDxP/GMftwfvu8/E84Rb+kb7T8ba4wsqFfqP+tIpbBQbec/r+LTSgdY5D/5TRlm4hHhPyM6LhwoJ9s/dAZpv9qn0z+2MxDolhzHP8Y5ZNPs26U/15FU4hHqu7+jRSetps7Rv6HxBnqMF96/7zn6/kIu5r+yEB0aTdnev2BSrqw0V9S/PJNl8dDCx7/HwHUl46izvztP4be18Yw/NcaAqyY+tz8FyllzwO7DPwpMM8JC+so/G7T6kAl30D8Sk9uE0/XSP2rdD+w1BtU/3/cPQ+Cx1j9ZwQT8JQDYP/Adw6hz9tg/Lkpj6p6Y2T/fzpV1G+nZP9/OlXUb6dk/Lkpj6p6Y2T/wHcOoc/bYP1PBBPwlANg/3/cPQ+Cx1j9o3Q/sNQbVPxKT24TT9dI/G7T6kAl30D8KTDPCQvrKPwXKWXPA7sM/CsaAqyY+tz8/TuG3tfGMP/vAdSXjqLO/PJNl8dDCx79gUq6sNFfUv7IQHRpN2d6/7zn6/kIu5r+h8QZ6jBfev6NFJ62mztG/15FU4hHqu79qOWTT7NulP6IzEOiWHMc/awZpv9qn0z8zOi4cKCfbPwBOGWbiEeE/teLTSgdY5D/wSKWwUG3nPyBrjCyoV+o/F84Rb+kb7T/0jH7cH77vP8nD+LPZIPE/EX1V8cRU8j/R0WYTEHzzP6t2ZrPOl/Q/Sp+nGfGo9T93zmcoSrD2P5RTuBKUrvc/lekRKHSk+D/PCOPpfZL5P12oypI1efo/GyNqLRJZ+z/3zptRfzL8P59InpneBf0/Ccnc3IjT/T+09Qs7z5v+P3zsFQD8Xv8/EVHMs6kOAEDnmLIiimsAQJF2sks8xgBA/vA7AtseAUA=\",\"dtype\":\"float64\",\"order\":\"little\",\"shape\":[100]}},\"selected\":{\"id\":\"1897\"},\"selection_policy\":{\"id\":\"1896\"}},\"id\":\"1813\",\"type\":\"ColumnDataSource\"},{\"attributes\":{},\"id\":\"1760\",\"type\":\"ResetTool\"},{\"attributes\":{},\"id\":\"1749\",\"type\":\"BasicTicker\"},{\"attributes\":{},\"id\":\"1874\",\"type\":\"UnionRenderers\"},{\"attributes\":{\"formatter\":{\"id\":\"1879\"},\"ticker\":{\"id\":\"1753\"}},\"id\":\"1752\",\"type\":\"LinearAxis\"},{\"attributes\":{\"axis\":{\"id\":\"1748\"},\"ticker\":null},\"id\":\"1751\",\"type\":\"Grid\"},{\"attributes\":{},\"id\":\"1753\",\"type\":\"BasicTicker\"},{\"attributes\":{},\"id\":\"1873\",\"type\":\"Selection\"},{\"attributes\":{},\"id\":\"1744\",\"type\":\"LinearScale\"},{\"attributes\":{\"bottom_units\":\"screen\",\"fill_alpha\":0.5,\"fill_color\":\"lightgrey\",\"left_units\":\"screen\",\"level\":\"overlay\",\"line_alpha\":1.0,\"line_color\":\"black\",\"line_dash\":[4,4],\"line_width\":2,\"right_units\":\"screen\",\"top_units\":\"screen\"},\"id\":\"1804\",\"type\":\"BoxAnnotation\"},{\"attributes\":{\"axis\":{\"id\":\"1832\"},\"ticker\":null},\"id\":\"1835\",\"type\":\"Grid\"},{\"attributes\":{\"formatter\":{\"id\":\"1903\"},\"ticker\":{\"id\":\"1837\"}},\"id\":\"1836\",\"type\":\"LinearAxis\"},{\"attributes\":{\"data\":{\"x\":{\"__ndarray__\":\"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\",\"dtype\":\"float64\",\"order\":\"little\",\"shape\":[300]},\"y\":[2.072154526135156,2.0599349991905043,2.049112087705493,2.0404009183173706,2.0332532795155367,2.026591992507438,2.019690491697415,2.0123814872275227,2.0049018048356375,1.9977550063841434,1.9916363942907143,1.9872216219707821,1.9844448384054139,1.9812590979491902,1.9737534502598608,1.9596045402472408,1.9404976435468595,1.919680881747229,1.8992770481270473,1.880028852276812,1.8619566608747715,1.8448387543740705,1.8284061788553951,1.8123705988719525,1.7963693858419916,1.7798749833248126,1.7621361852189033,1.7423070202580937,1.7199057151436263,1.695277347925491,1.6693503574573603,1.642889961842255,1.6161822212081058,1.58923482410659,1.5620181147078571,1.5345486081835373,1.5068651138221272,1.478993526593052,1.451001665097257,1.4232037626314535,1.3963700676150421,1.3716121718117034,1.3499290077375057,1.331866949324515,1.3175477501430808,1.3068678289547269,1.2996224779524916,1.2954405977075902,1.2934447555576019,1.291602297180107,1.2863404760287134,1.2741589003079326,1.2550963399413222,1.232825459730948,1.2107126033245756,1.1899038350352644,1.170193684024929,1.1510785135642971,1.1321899399383109,1.1133635700370355,1.094562965229109,1.0757092060388187,1.056479579543477,1.0363156074358708,1.0147409032221102,0.9916014717780106,0.9669820109108442,0.9410219372575299,0.9138130448834372,0.8853647482707219,0.855583993806518,0.8242419307796653,0.7909198729646163,0.7549494426716796,0.7154051483286099,0.6712625452934708,0.6218081508725173,0.5671465617518532,0.5083620617499625,0.44708519952274317,0.3848211480730499,0.32256062320858225,0.2607926073764908,0.1997457433732328,0.13971841278981678,0.08146432874159926,0.026598240187413413,-0.022165346594424484,-0.061373057714221746,-0.0882738847766259,-0.10309443660217998,-0.1103828618871025,-0.11728228030760574,-0.1293898998897577,-0.14792831535690176,-0.17047129009481876,-0.19357408880185845,-0.2147130800204926,-0.2327324941382678,-0.2474019601264511,-0.2588023759242617,-0.2668671362712951,-0.2711272878218936,-0.27066689412504297,-0.2644016943614837,-0.25176673055434057,-0.23338928949919435,-0.21094392721200061,-0.18626043822174632,-0.16064940398364003,-0.13483884114769018,-0.10918927404021639,-0.08388259954232169,-0.05901087069827893,-0.03458557860461853,-0.010512852027705799,0.01340357863765762,0.03739220765070472,0.06160567679621265,0.08604110944750332,0.11051874046351229,0.1347026373294269,0.15814621781237836,0.1803702487491886,0.20098501625694137,0.21982322912364183,0.23699378989946374,0.2527975788121246,0.2675661524995604,0.28153920958750395,0.2948259705784034,0.307416489556286,0.3192006762448056,0.32998651125359135,0.33954195250331526,0.3476906540234419,0.35443937876304055,0.3600296358690315,0.36483171248607255,0.3691699092485657,0.3732331267037153,0.3770954362066297,0.38077070382203154,0.38424514564638707,0.3874794085949046,0.390393286466815,0.3928528696762583,0.39468496704130424,0.395733622023333,0.3959324034268857,0.395333157039327,0.3940673064305076,0.3922791430805698,0.39007739206680936,0.3875148090560988,0.38458304515773534,0.38121403537030746,0.37729468306350517,0.37271159550660754,0.3674227341300353,0.3615019753845106,0.3551005601412708,0.3483607044343222,0.3413655427771196,0.3341451216322976,0.32670093418976254,0.3190180583362713,0.3110565928486559,0.3027263667892219,0.2938618186477836,0.2842356775849555,0.2736492614381083,0.26206088422428436,0.2496246827919501,0.2365809759359494,0.22310199319669233,0.20921037463878078,0.1947797129457991,0.17956856094447776,0.16325342889647965,0.14545719429138837,0.1257896887040152,0.10391509891120931,0.0796318431926516,0.052924367823141694,0.02396246895061016,-0.00693396370766064,-0.039328575028145574,-0.0726833692134412,-0.10637258217258361,-0.13973447078107903,-0.1721723176874077,-0.20324735813714723,-0.23268490703710853,-0.2602848271094894,-0.2857925182769845,-0.30877271430950604,-0.32848542729471764,-0.34375626028920503,-0.3528836313423059,-0.3537371913647049,-0.3443021240089757,-0.32372187612635717,-0.29317516860269444,-0.25555085321994864,-0.2140155729892863,-0.17081034907199744,-0.12702971517128825,-0.08299393450279391,-0.03866064445779305,0.006111751826473277,0.051414917367207824,0.09720168698939124,0.14325072146638895,0.18920521583384975,0.23467165375460874,0.27929542011091035,0.3227415660986157,0.36464250419297306,0.40464533260528324,0.44255641636497334,0.4784339166495317,0.512539178465945,0.5452068999984072,0.5767306449304481,0.6072992609772863,0.6369722703717546,0.6656890468465773,0.693338528176699,0.7199118210655189,0.7456714721280044,0.771178638772021,0.7971064302523141,0.8239818796103968,0.8520432877424464,0.8812466784777175,0.9113429906390755,0.9419576083474519,0.9726523645166854,1.0029783916841257,1.032533395013731,1.06102797292258,1.0883458442709184,1.1145633297440327,1.1399009629961971,1.1646238698210551,1.18894671900367,1.2129898602055926,1.2367909958726484,1.2603450930790792,1.2836372372492275,1.3066339895401353,1.3292045234578564,1.3509859981534267,1.3713220249175189,1.3894689814479106,1.4050266891915164,1.4182124223652361,1.4297588701678587,1.4406319074636253,1.451792744646173,1.4640330702961444,1.4778555607128214,1.4934301753879884,1.5106658332533454,1.5293601745573877,1.5493299818204527,1.5704553290692826,1.5926370732136068,1.6156991134313605,1.639278877906209,1.6627811756172242,1.6854772192054166,1.7067295462162746,1.7261940581515862,1.7438750197920745,1.7600520679350833,1.775173133900051,1.7897742317370606,1.8044280839729243,1.8196903135836724,1.8360112048433073,1.8536120302506487,1.8723797315352182,1.891869821728501,1.9114618676728221,1.9305973675259818,1.9489663937939814,1.966567958389315,1.9836676203339718,2.000712998659822,2.018243768515444,2.036800531421227,2.0568282574664396,2.0785837928674646,2.102074759605005,2.1270578303807985,2.1531009913257786,2.179683595117613,2.206294327783871]},\"selected\":{\"id\":\"1899\"},\"selection_policy\":{\"id\":\"1898\"}},\"id\":\"1818\",\"type\":\"ColumnDataSource\"},{\"attributes\":{\"source\":{\"id\":\"1734\"}},\"id\":\"1738\",\"type\":\"CDSView\"},{\"attributes\":{\"fill_alpha\":{\"value\":0.1},\"fill_color\":{\"value\":\"#1f77b4\"},\"line_alpha\":{\"value\":0.1},\"line_color\":{\"value\":\"#1f77b4\"},\"x\":{\"field\":\"x\"},\"y\":{\"field\":\"y\"}},\"id\":\"1815\",\"type\":\"Scatter\"},{\"attributes\":{\"data_source\":{\"id\":\"1734\"},\"glyph\":{\"id\":\"1735\"},\"hover_glyph\":null,\"muted_glyph\":null,\"nonselection_glyph\":{\"id\":\"1736\"},\"selection_glyph\":null,\"view\":{\"id\":\"1738\"}},\"id\":\"1737\",\"type\":\"GlyphRenderer\"},{\"attributes\":{\"data_source\":{\"id\":\"1813\"},\"glyph\":{\"id\":\"1814\"},\"hover_glyph\":null,\"muted_glyph\":null,\"nonselection_glyph\":{\"id\":\"1815\"},\"selection_glyph\":null,\"view\":{\"id\":\"1817\"}},\"id\":\"1816\",\"type\":\"GlyphRenderer\"},{\"attributes\":{},\"id\":\"1837\",\"type\":\"BasicTicker\"},{\"attributes\":{\"line_alpha\":0.1,\"line_color\":\"red\",\"line_width\":2,\"x\":{\"field\":\"x\"},\"y\":{\"field\":\"y\"}},\"id\":\"1736\",\"type\":\"Line\"},{\"attributes\":{\"below\":[{\"id\":\"1832\"}],\"center\":[{\"id\":\"1835\"},{\"id\":\"1839\"}],\"left\":[{\"id\":\"1836\"}],\"plot_height\":400,\"plot_width\":400,\"renderers\":[{\"id\":\"1858\"},{\"id\":\"1863\"}],\"title\":{\"id\":\"1854\"},\"toolbar\":{\"id\":\"1847\"},\"toolbar_location\":null,\"x_range\":{\"id\":\"1824\"},\"x_scale\":{\"id\":\"1828\"},\"y_range\":{\"id\":\"1826\"},\"y_scale\":{\"id\":\"1830\"}},\"id\":\"1823\",\"subtype\":\"Figure\",\"type\":\"Plot\"},{\"attributes\":{\"axis\":{\"id\":\"1836\"},\"dimension\":1,\"ticker\":null},\"id\":\"1839\",\"type\":\"Grid\"},{\"attributes\":{\"line_color\":\"red\",\"line_width\":2,\"x\":{\"field\":\"x\"},\"y\":{\"field\":\"y\"}},\"id\":\"1735\",\"type\":\"Line\"},{\"attributes\":{\"data\":{\"x\":{\"__ndarray__\":\"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\",\"dtype\":\"float64\",\"order\":\"little\",\"shape\":[300]},\"y\":[2.100819080775736,2.052982191263059,2.0051396617867248,1.9944344821897322,1.9822235248683246,1.9700125675470697,1.9578016102258158,1.9455906529045621,1.9846029997536412,2.0297463191585474,2.0169711708413858,2.004196022524224,1.9914208742070683,1.9007112932103443,1.9435598693417573,1.9857970102836457,2.0282325886139514,1.9949439397043172,1.857954796754509,1.7957086338003232,1.7688373155177723,1.7419609490683325,1.7567434671868034,1.8366522902201732,2.022722556247878,1.9629912691967997,1.9031283379177477,1.7782532612070163,1.6415591172706065,1.7052227742154846,1.7578477447565763,1.8051931991728987,1.6458736355703265,1.6144828122201735,1.5638286463224187,1.5524466835180535,1.5424316543683716,1.5232396591774293,1.5052374192203004,1.5249955653319667,1.394920790232547,1.2764094890293318,1.2252420398437263,1.1488995888425286,1.1064678117846718,1.174890396947687,1.1697132710295244,1.086041667370388,1.2352752575239254,1.3484344320483035,0.5146808520464532,-0.55021076196509,-1.5082027272572276,-2.463235447122983,-3.4182112713165793,0.6324315088813393,1.1196367315081677,1.1104343354241215,1.1012319393400753,1.0920295432560294,1.082827147171984,1.0736247510879378,1.0644223550038918,1.0446218783461951,1.0290440591112644,1.1038497999643901,1.022810819397245,0.9417714005594986,0.8607319817390406,0.779692554544769,0.8717782100564555,1.334853281820493,1.1217247917404691,0.9054513494399608,0.6895800357977357,0.6869749822891356,0.6439305750632824,0.6062041970202343,0.5692386944129342,0.5299196433525761,0.4179673021652386,0.30601669800264375,0.19406590865649154,0.11577078250746453,0.10525906303924071,1.0145740443948768,0.5034744793482204,-0.009070962184274833,-0.5086893849434659,-0.3847430435439989,0.4743846032822887,0.23498890577894738,1.0912625822304562,-0.027162830766840784,-0.4137138231548896,-0.7879590965375982,-1.1377121964389474,-0.4768305747955738,-0.4749956628585878,-0.47783598488522283,-0.4731192694870586,-0.4503966045576733,-0.3738839514615817,-0.3040170375558877,-0.13226784096562483,-0.2091178407117673,-0.28597532191094377,-0.3628328037386557,-0.4396899320243062,-0.1739139203090092,-0.11825682392373338,0.014320215952847073,0.024568261337158503,-0.0028589641621925566,-0.030206454886984924,-0.05755426904922567,-0.0594715196117519,-0.0010214289645800179,0.05742859192834171,0.10873697451965136,0.11523295772863318,0.13222981736261435,0.12203210916456353,0.2136549616683232,0.30527415191657514,0.26308009150077794,0.16278216053901406,0.23369305934557105,0.3126739160174721,0.3916547733873217,0.3023162774837186,0.25117814758656587,0.29769289472046256,0.3444429815572676,0.3911469592987319,0.36127683045538833,0.333782173304591,0.3357795923814142,0.3511008056977958,0.36358594032084224,0.37512177252995016,0.38088964970804473,0.3863122338613686,0.3917332592723385,0.4003488151373749,0.40052533217862674,0.4017293037164107,0.40301543853014127,0.40485273707287506,0.4048527366727127,0.4002383884241124,0.39570013544583954,0.3918880292068754,0.38804321873920633,0.3841701226183694,0.37815247579689687,0.3673111802055039,0.38839434467607103,0.40242300710645673,0.3719515851530091,0.35268314416536084,0.3334130720262007,0.3458699179746972,0.34193061737742103,0.33784157344164645,0.3259451253605562,0.32793909039799746,0.32993305543543877,0.30498179885899296,0.2912785872425017,0.18869996008364653,0.2349550656590994,0.28121032233367593,0.32746557900472073,0.3551267048695681,0.21560998185316327,0.18544012830384704,0.15574168318667347,0.16819259835503392,0.1804906985317663,0.23626523335654326,0.24951008477529824,0.16549667936768264,0.08148327395866328,-0.0025301269293138695,0.05911348621190249,0.04412048924690548,0.17175999530970998,0.013917248383104486,-0.14392550586915132,-0.2902031754250518,-0.22987779950578902,0.43303933777360726,-3.488637861908529,-7.2551488960009465,-0.2066618220304845,0.2048892387778949,-0.15832443504494265,-0.5202465009297725,-0.5877257663124649,-0.3927458975159208,-0.25463618156133094,-0.11861757813525209,-0.31701411004852176,-0.5152281057528469,-0.7134423177661464,-0.9041553804174747,-0.2302517013861669,-0.15080477208173182,0.04209142166507473,0.04251126584063432,0.04293111001624886,0.1363996039209563,0.19643321503584854,0.40251715330861604,0.29066247401790246,0.17880890386452553,0.2716923951643935,0.36303376462618164,0.43685695026334814,0.4755796911592709,0.5143484514280776,0.5529943415643404,0.5409859260945566,0.6411344367685667,0.6839699570720255,1.0958280569942769,0.9743776123922085,0.8528790870594136,0.7313806270534542,0.6098821667113867,0.5397476361240372,0.6862948407199545,0.502927120864527,0.7309707852331933,0.9590424085394034,1.1843413603344253,1.0327589165760307,1.2520045423746033,0.9835226376298074,0.7164820914481638,1.0383541151127886,1.11171292170203,1.1508781235284014,1.1697467401742512,1.1853507453670589,1.2007727655928293,1.2170085581472376,1.2269069768295076,1.2368053955117784,1.3033232466670732,2.2062537400241773,1.974203388993299,1.6833804200904545,1.3888256569832826,1.4046884718073454,1.549885301440625,1.714396019038663,1.5080617936743295,1.5196694431312046,1.6170208565470006,1.522472293111159,1.4279252138843077,1.3333781449323343,1.2388438753638198,1.3759273811129675,1.469317574952472,1.3683572025975543,1.4536843524404848,1.5447563858586513,1.6358283341975461,1.726900281423509,1.817972212640175,1.7320401425724912,1.5559886150746287,1.6481936098606287,1.7723233697644787,1.8964531298109222,2.0205495095253294,1.7584433273355344,1.5717695963573775,1.6345839132144988,1.7250414391327915,1.8155920888277368,1.9174732287843312,2.0196052713209234,2.126480743163354,2.227127041102884,1.959489589392958,1.8422386665483845,1.917308945250861,1.9910106836145527,2.0596713636936794,2.1292958241639344,2.113286525628477,2.124528938144727,2.1334539201290137,2.1481408791170753,2.1612068584974145,2.1742728378777514]},\"selected\":{\"id\":\"1911\"},\"selection_policy\":{\"id\":\"1910\"}},\"id\":\"1860\",\"type\":\"ColumnDataSource\"},{\"attributes\":{\"data\":{\"x\":{\"__ndarray__\":\"08FrqbchCMDyat+WIb4IwP+GmQ2iVgXAqH9IWomvB8DePWKb+a8FwBfdCX1J2gPAWAiMpK64A8CNdJ23Aw8FwFfKC5MbwATAtBFjAjBVA8CmvWUS6IMDwNjHEypajgPAhczGeTQ1AsDGJtYWCq8BwAZm1YnjJADADnrldhyHAcDeWMGUQB8AwH0zAS5lUADAZdbYuBoXAcBLVeDvb078v7btWc/nr/q/1Svvfm5c+r+VlPWJlHD4v+jW2aT0Tfi/jlGSzr+I979esDKoQaX2v+rp6/0XUvK/FgX6ARn/9b/SJMyNMy/zv4asaFczPvK/R/P50REB9L8RIQOznEvzvyRRa7cEY++/3yZsJ2Gj878jSXyvdsPxv2DwOlXCquu/MNk23X7F7L/M0MNxuLPlv1LOwMxM1ue/D8hELmPc479RRMJfOGzhv43PYJrpRN2/yrm1KFWD3L95mWdRFXDgvz9uSsj4F9G/4rFbOFPp1L8KfrXzrJ7Iv/1PTcQe8NO/VPl+6Tedub9DAf/qPzqSv6xy2+K24ZK/2vEov7yrxD8mQ/pdg6iuP1BH8QUsosE/fOCGLai2yj9x49+I9Y3VP05RtAljUN0/c5VY8EI73D8qibu1CYbkP3TqPDRspuE/qOnmPchw5T96LIU8trjoP3wjO2r5Zus/nlgMhMqM7j+CvYchk3DrP58w3mrMcfE/L6LL831y7z8+Nt13ShXwP0hW0NQ06ek/mrJWCCPX8D8fPK+NapDzPywD77CcWPU/5nFHupz79D+OQ7D64TX2P6/EYslUHfc/lVEvYR7H+T9eokHQyyH7P63HliBOSPk/STS9J/nS/D9bx6Kkcn/7P/3/Aaa6ofw/3snDf6TY/T9+02hHZFT/P+9t7Wes1QBAMVPDu6cvAkAtPAHcI8MAQHh/pfhcBgFAub65ZKHeAUDPVuuAPEcDQF8eDSlYJQVArqM1TFF5A0DRHmrJdUsEQO4av5i8bQVAHc2FWittBEA5kFEvyosGQL2apS7gpQZAXiDbAty7BUD0l/P3S80FQI+HMMw69gZAC849hGiUB0A=\",\"dtype\":\"float64\",\"order\":\"little\",\"shape\":[100]},\"y\":{\"__ndarray__\":\"/vA7AtseAUCRdrJLPMYAQOeYsiKKawBAEVHMs6kOAEB87BUA/F7/P7L1CzvPm/4/CMnc3IjT/T+eSJ6Z3gX9P/XOm1F/Mvw/GSNqLRJZ+z9cqMqSNXn6P8sI4+l9kvk/lekRKHSk+D+UU7gSlK73P3fOZyhKsPY/Sp+nGfGo9T+rdmazzpf0P9HRZhMQfPM/EX1V8cRU8j/Iw/iz2SDxP/GMftwfvu8/E84Rb+kb7T8ba4wsqFfqP+tIpbBQbec/r+LTSgdY5D/5TRlm4hHhPyM6LhwoJ9s/dAZpv9qn0z+2MxDolhzHP8Y5ZNPs26U/15FU4hHqu7+jRSetps7Rv6HxBnqMF96/7zn6/kIu5r+yEB0aTdnev2BSrqw0V9S/PJNl8dDCx7/HwHUl46izvztP4be18Yw/NcaAqyY+tz8FyllzwO7DPwpMM8JC+so/G7T6kAl30D8Sk9uE0/XSP2rdD+w1BtU/3/cPQ+Cx1j9ZwQT8JQDYP/Adw6hz9tg/Lkpj6p6Y2T/fzpV1G+nZP9/OlXUb6dk/Lkpj6p6Y2T/wHcOoc/bYP1PBBPwlANg/3/cPQ+Cx1j9o3Q/sNQbVPxKT24TT9dI/G7T6kAl30D8KTDPCQvrKPwXKWXPA7sM/CsaAqyY+tz8/TuG3tfGMP/vAdSXjqLO/PJNl8dDCx79gUq6sNFfUv7IQHRpN2d6/7zn6/kIu5r+h8QZ6jBfev6NFJ62mztG/15FU4hHqu79qOWTT7NulP6IzEOiWHMc/awZpv9qn0z8zOi4cKCfbPwBOGWbiEeE/teLTSgdY5D/wSKWwUG3nPyBrjCyoV+o/F84Rb+kb7T/0jH7cH77vP8nD+LPZIPE/EX1V8cRU8j/R0WYTEHzzP6t2ZrPOl/Q/Sp+nGfGo9T93zmcoSrD2P5RTuBKUrvc/lekRKHSk+D/PCOPpfZL5P12oypI1efo/GyNqLRJZ+z/3zptRfzL8P59InpneBf0/Ccnc3IjT/T+09Qs7z5v+P3zsFQD8Xv8/EVHMs6kOAEDnmLIiimsAQJF2sks8xgBA/vA7AtseAUA=\",\"dtype\":\"float64\",\"order\":\"little\",\"shape\":[100]}},\"selected\":{\"id\":\"1909\"},\"selection_policy\":{\"id\":\"1908\"}},\"id\":\"1855\",\"type\":\"ColumnDataSource\"},{\"attributes\":{},\"id\":\"1700\",\"type\":\"DataRange1d\"},{\"attributes\":{\"source\":{\"id\":\"1813\"}},\"id\":\"1817\",\"type\":\"CDSView\"},{\"attributes\":{},\"id\":\"1702\",\"type\":\"LinearScale\"},{\"attributes\":{\"source\":{\"id\":\"1818\"}},\"id\":\"1822\",\"type\":\"CDSView\"},{\"attributes\":{},\"id\":\"1840\",\"type\":\"PanTool\"},{\"attributes\":{\"text\":\"tau=0.01\"},\"id\":\"1854\",\"type\":\"Title\"},{\"attributes\":{\"source\":{\"id\":\"1729\"}},\"id\":\"1733\",\"type\":\"CDSView\"},{\"attributes\":{},\"id\":\"1841\",\"type\":\"WheelZoomTool\"},{\"attributes\":{},\"id\":\"1824\",\"type\":\"DataRange1d\"},{\"attributes\":{\"overlay\":{\"id\":\"1846\"}},\"id\":\"1842\",\"type\":\"BoxZoomTool\"},{\"attributes\":{},\"id\":\"1704\",\"type\":\"LinearScale\"},{\"attributes\":{\"axis\":{\"id\":\"1706\"},\"ticker\":null},\"id\":\"1709\",\"type\":\"Grid\"},{\"attributes\":{\"data_source\":{\"id\":\"1818\"},\"glyph\":{\"id\":\"1819\"},\"hover_glyph\":null,\"muted_glyph\":null,\"nonselection_glyph\":{\"id\":\"1820\"},\"selection_glyph\":null,\"view\":{\"id\":\"1822\"}},\"id\":\"1821\",\"type\":\"GlyphRenderer\"},{\"attributes\":{},\"id\":\"1843\",\"type\":\"SaveTool\"},{\"attributes\":{\"line_alpha\":0.1,\"line_color\":\"red\",\"line_width\":2,\"x\":{\"field\":\"x\"},\"y\":{\"field\":\"y\"}},\"id\":\"1820\",\"type\":\"Line\"},{\"attributes\":{},\"id\":\"1844\",\"type\":\"ResetTool\"},{\"attributes\":{\"line_color\":\"red\",\"line_width\":2,\"x\":{\"field\":\"x\"},\"y\":{\"field\":\"y\"}},\"id\":\"1819\",\"type\":\"Line\"},{\"attributes\":{\"fill_alpha\":{\"value\":0.3},\"fill_color\":{\"value\":\"#1f77b4\"},\"line_alpha\":{\"value\":0.3},\"line_color\":{\"value\":\"#1f77b4\"},\"x\":{\"field\":\"x\"},\"y\":{\"field\":\"y\"}},\"id\":\"1730\",\"type\":\"Scatter\"},{\"attributes\":{},\"id\":\"1845\",\"type\":\"HelpTool\"},{\"attributes\":{},\"id\":\"1826\",\"type\":\"DataRange1d\"},{\"attributes\":{\"data_source\":{\"id\":\"1729\"},\"glyph\":{\"id\":\"1730\"},\"hover_glyph\":null,\"muted_glyph\":null,\"nonselection_glyph\":{\"id\":\"1731\"},\"selection_glyph\":null,\"view\":{\"id\":\"1733\"}},\"id\":\"1732\",\"type\":\"GlyphRenderer\"},{\"attributes\":{\"active_drag\":\"auto\",\"active_inspect\":\"auto\",\"active_multi\":null,\"active_scroll\":\"auto\",\"active_tap\":\"auto\",\"tools\":[{\"id\":\"1840\"},{\"id\":\"1841\"},{\"id\":\"1842\"},{\"id\":\"1843\"},{\"id\":\"1844\"},{\"id\":\"1845\"}]},\"id\":\"1847\",\"type\":\"Toolbar\"},{\"attributes\":{\"below\":[{\"id\":\"1748\"}],\"center\":[{\"id\":\"1751\"},{\"id\":\"1755\"}],\"left\":[{\"id\":\"1752\"}],\"plot_height\":400,\"plot_width\":400,\"renderers\":[{\"id\":\"1774\"},{\"id\":\"1779\"}],\"title\":{\"id\":\"1770\"},\"toolbar\":{\"id\":\"1763\"},\"toolbar_location\":null,\"x_range\":{\"id\":\"1740\"},\"x_scale\":{\"id\":\"1744\"},\"y_range\":{\"id\":\"1742\"},\"y_scale\":{\"id\":\"1746\"}},\"id\":\"1739\",\"subtype\":\"Figure\",\"type\":\"Plot\"},{\"attributes\":{},\"id\":\"1881\",\"type\":\"BasicTickFormatter\"},{\"attributes\":{\"fill_alpha\":{\"value\":0.1},\"fill_color\":{\"value\":\"#1f77b4\"},\"line_alpha\":{\"value\":0.1},\"line_color\":{\"value\":\"#1f77b4\"},\"x\":{\"field\":\"x\"},\"y\":{\"field\":\"y\"}},\"id\":\"1731\",\"type\":\"Scatter\"},{\"attributes\":{},\"id\":\"1879\",\"type\":\"BasicTickFormatter\"},{\"attributes\":{},\"id\":\"1884\",\"type\":\"UnionRenderers\"},{\"attributes\":{\"bottom_units\":\"screen\",\"fill_alpha\":0.5,\"fill_color\":\"lightgrey\",\"left_units\":\"screen\",\"level\":\"overlay\",\"line_alpha\":1.0,\"line_color\":\"black\",\"line_dash\":[4,4],\"line_width\":2,\"right_units\":\"screen\",\"top_units\":\"screen\"},\"id\":\"1846\",\"type\":\"BoxAnnotation\"},{\"attributes\":{\"formatter\":{\"id\":\"1869\"},\"ticker\":{\"id\":\"1707\"}},\"id\":\"1706\",\"type\":\"LinearAxis\"},{\"attributes\":{},\"id\":\"1707\",\"type\":\"BasicTicker\"},{\"attributes\":{\"fill_alpha\":{\"value\":0.1},\"fill_color\":{\"value\":\"#1f77b4\"},\"line_alpha\":{\"value\":0.1},\"line_color\":{\"value\":\"#1f77b4\"},\"x\":{\"field\":\"x\"},\"y\":{\"field\":\"y\"}},\"id\":\"1857\",\"type\":\"Scatter\"},{\"attributes\":{\"formatter\":{\"id\":\"1867\"},\"ticker\":{\"id\":\"1711\"}},\"id\":\"1710\",\"type\":\"LinearAxis\"},{\"attributes\":{\"source\":{\"id\":\"1855\"}},\"id\":\"1859\",\"type\":\"CDSView\"},{\"attributes\":{},\"id\":\"1742\",\"type\":\"DataRange1d\"},{\"attributes\":{},\"id\":\"1833\",\"type\":\"BasicTicker\"},{\"attributes\":{\"text\":\"tau=10\"},\"id\":\"1728\",\"type\":\"Title\"},{\"attributes\":{\"fill_alpha\":{\"value\":0.3},\"fill_color\":{\"value\":\"#1f77b4\"},\"line_alpha\":{\"value\":0.3},\"line_color\":{\"value\":\"#1f77b4\"},\"x\":{\"field\":\"x\"},\"y\":{\"field\":\"y\"}},\"id\":\"1856\",\"type\":\"Scatter\"},{\"attributes\":{\"data_source\":{\"id\":\"1855\"},\"glyph\":{\"id\":\"1856\"},\"hover_glyph\":null,\"muted_glyph\":null,\"nonselection_glyph\":{\"id\":\"1857\"},\"selection_glyph\":null,\"view\":{\"id\":\"1859\"}},\"id\":\"1858\",\"type\":\"GlyphRenderer\"},{\"attributes\":{},\"id\":\"1711\",\"type\":\"BasicTicker\"},{\"attributes\":{\"axis\":{\"id\":\"1710\"},\"dimension\":1,\"ticker\":null},\"id\":\"1713\",\"type\":\"Grid\"},{\"attributes\":{\"children\":[[{\"id\":\"1697\"},0,0],[{\"id\":\"1739\"},0,1],[{\"id\":\"1781\"},1,0],[{\"id\":\"1823\"},1,1]]},\"id\":\"1913\",\"type\":\"GridBox\"},{\"attributes\":{\"data\":{\"x\":{\"__ndarray__\":\"08FrqbchCMDyat+WIb4IwP+GmQ2iVgXAqH9IWomvB8DePWKb+a8FwBfdCX1J2gPAWAiMpK64A8CNdJ23Aw8FwFfKC5MbwATAtBFjAjBVA8CmvWUS6IMDwNjHEypajgPAhczGeTQ1AsDGJtYWCq8BwAZm1YnjJADADnrldhyHAcDeWMGUQB8AwH0zAS5lUADAZdbYuBoXAcBLVeDvb078v7btWc/nr/q/1Svvfm5c+r+VlPWJlHD4v+jW2aT0Tfi/jlGSzr+I979esDKoQaX2v+rp6/0XUvK/FgX6ARn/9b/SJMyNMy/zv4asaFczPvK/R/P50REB9L8RIQOznEvzvyRRa7cEY++/3yZsJ2Gj878jSXyvdsPxv2DwOlXCquu/MNk23X7F7L/M0MNxuLPlv1LOwMxM1ue/D8hELmPc479RRMJfOGzhv43PYJrpRN2/yrm1KFWD3L95mWdRFXDgvz9uSsj4F9G/4rFbOFPp1L8KfrXzrJ7Iv/1PTcQe8NO/VPl+6Tedub9DAf/qPzqSv6xy2+K24ZK/2vEov7yrxD8mQ/pdg6iuP1BH8QUsosE/fOCGLai2yj9x49+I9Y3VP05RtAljUN0/c5VY8EI73D8qibu1CYbkP3TqPDRspuE/qOnmPchw5T96LIU8trjoP3wjO2r5Zus/nlgMhMqM7j+CvYchk3DrP58w3mrMcfE/L6LL831y7z8+Nt13ShXwP0hW0NQ06ek/mrJWCCPX8D8fPK+NapDzPywD77CcWPU/5nFHupz79D+OQ7D64TX2P6/EYslUHfc/lVEvYR7H+T9eokHQyyH7P63HliBOSPk/STS9J/nS/D9bx6Kkcn/7P/3/Aaa6ofw/3snDf6TY/T9+02hHZFT/P+9t7Wes1QBAMVPDu6cvAkAtPAHcI8MAQHh/pfhcBgFAub65ZKHeAUDPVuuAPEcDQF8eDSlYJQVArqM1TFF5A0DRHmrJdUsEQO4av5i8bQVAHc2FWittBEA5kFEvyosGQL2apS7gpQZAXiDbAty7BUD0l/P3S80FQI+HMMw69gZAC849hGiUB0A=\",\"dtype\":\"float64\",\"order\":\"little\",\"shape\":[100]},\"y\":{\"__ndarray__\":\"/vA7AtseAUCRdrJLPMYAQOeYsiKKawBAEVHMs6kOAEB87BUA/F7/P7L1CzvPm/4/CMnc3IjT/T+eSJ6Z3gX9P/XOm1F/Mvw/GSNqLRJZ+z9cqMqSNXn6P8sI4+l9kvk/lekRKHSk+D+UU7gSlK73P3fOZyhKsPY/Sp+nGfGo9T+rdmazzpf0P9HRZhMQfPM/EX1V8cRU8j/Iw/iz2SDxP/GMftwfvu8/E84Rb+kb7T8ba4wsqFfqP+tIpbBQbec/r+LTSgdY5D/5TRlm4hHhPyM6LhwoJ9s/dAZpv9qn0z+2MxDolhzHP8Y5ZNPs26U/15FU4hHqu7+jRSetps7Rv6HxBnqMF96/7zn6/kIu5r+yEB0aTdnev2BSrqw0V9S/PJNl8dDCx7/HwHUl46izvztP4be18Yw/NcaAqyY+tz8FyllzwO7DPwpMM8JC+so/G7T6kAl30D8Sk9uE0/XSP2rdD+w1BtU/3/cPQ+Cx1j9ZwQT8JQDYP/Adw6hz9tg/Lkpj6p6Y2T/fzpV1G+nZP9/OlXUb6dk/Lkpj6p6Y2T/wHcOoc/bYP1PBBPwlANg/3/cPQ+Cx1j9o3Q/sNQbVPxKT24TT9dI/G7T6kAl30D8KTDPCQvrKPwXKWXPA7sM/CsaAqyY+tz8/TuG3tfGMP/vAdSXjqLO/PJNl8dDCx79gUq6sNFfUv7IQHRpN2d6/7zn6/kIu5r+h8QZ6jBfev6NFJ62mztG/15FU4hHqu79qOWTT7NulP6IzEOiWHMc/awZpv9qn0z8zOi4cKCfbPwBOGWbiEeE/teLTSgdY5D/wSKWwUG3nPyBrjCyoV+o/F84Rb+kb7T/0jH7cH77vP8nD+LPZIPE/EX1V8cRU8j/R0WYTEHzzP6t2ZrPOl/Q/Sp+nGfGo9T93zmcoSrD2P5RTuBKUrvc/lekRKHSk+D/PCOPpfZL5P12oypI1efo/GyNqLRJZ+z/3zptRfzL8P59InpneBf0/Ccnc3IjT/T+09Qs7z5v+P3zsFQD8Xv8/EVHMs6kOAEDnmLIiimsAQJF2sks8xgBA/vA7AtseAUA=\",\"dtype\":\"float64\",\"order\":\"little\",\"shape\":[100]}},\"selected\":{\"id\":\"1873\"},\"selection_policy\":{\"id\":\"1872\"}},\"id\":\"1729\",\"type\":\"ColumnDataSource\"},{\"attributes\":{\"formatter\":{\"id\":\"1893\"},\"ticker\":{\"id\":\"1791\"}},\"id\":\"1790\",\"type\":\"LinearAxis\"},{\"attributes\":{\"source\":{\"id\":\"1860\"}},\"id\":\"1864\",\"type\":\"CDSView\"},{\"attributes\":{},\"id\":\"1719\",\"type\":\"HelpTool\"},{\"attributes\":{\"data_source\":{\"id\":\"1860\"},\"glyph\":{\"id\":\"1861\"},\"hover_glyph\":null,\"muted_glyph\":null,\"nonselection_glyph\":{\"id\":\"1862\"},\"selection_glyph\":null,\"view\":{\"id\":\"1864\"}},\"id\":\"1863\",\"type\":\"GlyphRenderer\"},{\"attributes\":{\"fill_alpha\":{\"value\":0.3},\"fill_color\":{\"value\":\"#1f77b4\"},\"line_alpha\":{\"value\":0.3},\"line_color\":{\"value\":\"#1f77b4\"},\"x\":{\"field\":\"x\"},\"y\":{\"field\":\"y\"}},\"id\":\"1814\",\"type\":\"Scatter\"},{\"attributes\":{},\"id\":\"1801\",\"type\":\"SaveTool\"},{\"attributes\":{\"data\":{\"x\":{\"__ndarray__\":\"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\",\"dtype\":\"float64\",\"order\":\"little\",\"shape\":[300]},\"y\":[0.8291544286414492,0.8284116770571416,0.8276741966628305,0.8269419873870439,0.8262150491584608,0.825493381905908,0.8247769855583552,0.8240658600449233,0.8233600052948776,0.8226594212376329,0.8219641078027523,0.8212740649199399,0.8205892925190577,0.8199097905301072,0.8192355588832426,0.8185665975087618,0.8179029063371156,0.8172444852988981,0.8165913343248539,0.8159434533458751,0.8153008422930033,0.8146635010974278,0.8140314296904856,0.8134046280036635,0.8127830959685963,0.8121668335170671,0.8115558405810077,0.8109501170924998,0.8103496629837743,0.8097544781872098,0.8091645626353335,0.8085799162608238,0.8080005389965083,0.8074264307753598,0.8068575915305064,0.8062940211952228,0.8057357197029318,0.8051826869872081,0.8046349229817769,0.8040924276205098,0.8035552008374305,0.8030232425667123,0.8024965527426785,0.8019751312998037,0.8014589781727102,0.8009480932961702,0.8004424766051098,0.7999421280346036,0.7994470475198745,0.798957234996299,0.7984726903994032,0.7979934136648626,0.7975194047285054,0.7970506635263087,0.7965871899944023,0.7961289840690653,0.7956760456867287,0.7952283747839739,0.7947859712975333,0.7943488351642924,0.7939169663212862,0.7934903647057006,0.7930690302548754,0.7926529629062979,0.7922421625976108,0.7918366292666068,0.7914363628512289,0.7910413632895741,0.790651630519891,0.7902671644805761,0.7898879651101858,0.78951403234742,0.7891453661311348,0.788781966400339,0.7884238330941923,0.7880709661520048,0.7877233655132433,0.7873810311175242,0.7870439629046152,0.7867121608144391,0.7863856247870689,0.7860643547627316,0.785748350681808,0.7854376124848282,0.785132140112477,0.7848319335055938,0.7845369926051672,0.7842473173523419,0.7839629076884127,0.7836837635548309,0.7834098848931977,0.7831412716452691,0.7828779237529543,0.7826198411583157,0.7823670238035685,0.7821194716310803,0.7818771845833757,0.7816401626031297,0.7814084056331704,0.7811819136164821,0.7809606864962009,0.7807447242156182,0.7805340267181755,0.7803285939474726,0.7801284258472608,0.7799335223614461,0.7797438834340875,0.779559509009398,0.7793803990317468,0.7792065534456538,0.7790379721957956,0.7788746552270032,0.77871660248426,0.7785638139127045,0.778416289457629,0.7782740290644833,0.7781370326788668,0.7780053002465368,0.7778788317134037,0.7777576270255329,0.7776416861291444,0.7775310089706143,0.7774255954964705,0.777325445653398,0.7772305593882348,0.7771409366479747,0.7770565773797686,0.7769774815309167,0.7769036490488808,0.7768350798812722,0.7767717739758613,0.7767137312805714,0.7766609517434806,0.7766134353128237,0.7765711819369908,0.7765341915645249,0.776502464144127,0.7764759996246529,0.7764547979551121,0.7764388590846714,0.776428182962653,0.776422769538531,0.7764226187619411,0.7764277305826709,0.7764381049506637,0.7764537418160185,0.7764746411289909,0.7765008028399913,0.7765322268995872,0.7765689132584996,0.7766108618676084,0.7766580726779464,0.7767105456407042,0.7767682807072268,0.7768312778290167,0.7768995369577326,0.7769730580451866,0.7770518410433499,0.7771358859043487,0.7772251925804632,0.7773197610241346,0.7774195911879545,0.7775246830246756,0.7776350364872039,0.7777506515286037,0.777871528102093,0.7779976661610489,0.7781290656590022,0.7782657265496437,0.7784076487868166,0.778554832324523,0.7787072771169202,0.7788649831183243,0.7790279502832055,0.779196178566191,0.7793696679220639,0.7795484183057665,0.779732429672397,0.7799217019772073,0.7801162351756085,0.7803160292231701,0.7805210840756138,0.7807313996888214,0.7809469760188306,0.7811678130218351,0.7813939106541878,0.7816252688723963,0.7818618876331243,0.7821037668931947,0.7823509066095871,0.7826033067394353,0.7828609672400342,0.7831238880688304,0.7833920691834343,0.7836655105416057,0.7839442121012685,0.7842281738204981,0.7845173956575305,0.7848118775707573,0.7851116195187265,0.7854166214601453,0.7857268833538777,0.7860424051589422,0.7863631868345154,0.7866892283399355,0.7870205296346916,0.7873570906784321,0.7876989114309663,0.7880459918522558,0.7883983319024208,0.788755931541741,0.7891187907306498,0.7894869094297415,0.7898602875997658,0.7902389252016283,0.7906228221963956,0.7910119785452879,0.7914063942096861,0.7918060691511248,0.7922110033312996,0.7926211967120608,0.7930366492554175,0.7934573609235366,0.7938833316787403,0.7943145614835101,0.7947510503004845,0.7951927980924588,0.7956398048223867,0.7960920704533786,0.7965495949487029,0.7970123782717851,0.7974804203862081,0.7979537212557124,0.7984322808441956,0.798916099115714,0.7994051760344799,0.7998995115648634,0.800399105671394,0.800903958318756,0.8014140694717925,0.8019294390955035,0.8024500671550475,0.80297595361574,0.8035070984430526,0.8040435016026186,0.8045851630602234,0.8051320827818136,0.8056842607334898,0.8062416968815158,0.8068043911923104,0.8073723436324447,0.8079455541686543,0.8085240227678314,0.8091077493970197,0.8096967340234285,0.8102909766144193,0.810890477137514,0.8114952355603874,0.8121052518508786,0.8127205259769787,0.8133410579068386,0.8139668476087667,0.8145978950512275,0.8152342002028455,0.8158757630323994,0.8165225835088273,0.8171746616012256,0.8178319972788456,0.8184945905110985,0.8191624412675518,0.8198355495179303,0.8205139152321157,0.8211975383801485,0.8218864189322271,0.8225805568587048,0.8232799521300924,0.8239846047170615,0.8246945145904379,0.8254096817212047,0.8261301060805051,0.8268557876396355,0.8275867263700544,0.8283229222433733,0.8290643752313639,0.8298110853059533,0.8305630524392273,0.8313202766034278,0.8320827577709549,0.8328504959143646,0.8336234910063717,0.8344017430198466,0.8351852519278173,0.8359740177034719,0.8367680403201504,0.8375673197513537,0.8383718559707396,0.8391816489521198,0.8399966986694668,0.8408170050969096,0.841642568208732]},\"selected\":{\"id\":\"1875\"},\"selection_policy\":{\"id\":\"1874\"}},\"id\":\"1734\",\"type\":\"ColumnDataSource\"},{\"attributes\":{},\"id\":\"1715\",\"type\":\"WheelZoomTool\"},{\"attributes\":{\"line_alpha\":0.1,\"line_color\":\"red\",\"line_width\":2,\"x\":{\"field\":\"x\"},\"y\":{\"field\":\"y\"}},\"id\":\"1862\",\"type\":\"Line\"},{\"attributes\":{\"line_color\":\"red\",\"line_width\":2,\"x\":{\"field\":\"x\"},\"y\":{\"field\":\"y\"}},\"id\":\"1861\",\"type\":\"Line\"},{\"attributes\":{},\"id\":\"1897\",\"type\":\"Selection\"},{\"attributes\":{},\"id\":\"1798\",\"type\":\"PanTool\"},{\"attributes\":{},\"id\":\"1875\",\"type\":\"Selection\"},{\"attributes\":{},\"id\":\"1786\",\"type\":\"LinearScale\"},{\"attributes\":{},\"id\":\"1867\",\"type\":\"BasicTickFormatter\"},{\"attributes\":{},\"id\":\"1714\",\"type\":\"PanTool\"},{\"attributes\":{},\"id\":\"1802\",\"type\":\"ResetTool\"},{\"attributes\":{\"active_drag\":\"auto\",\"active_inspect\":\"auto\",\"active_multi\":null,\"active_scroll\":\"auto\",\"active_tap\":\"auto\",\"tools\":[{\"id\":\"1798\"},{\"id\":\"1799\"},{\"id\":\"1800\"},{\"id\":\"1801\"},{\"id\":\"1802\"},{\"id\":\"1803\"}]},\"id\":\"1805\",\"type\":\"Toolbar\"},{\"attributes\":{},\"id\":\"1869\",\"type\":\"BasicTickFormatter\"},{\"attributes\":{\"overlay\":{\"id\":\"1720\"}},\"id\":\"1716\",\"type\":\"BoxZoomTool\"},{\"attributes\":{},\"id\":\"1717\",\"type\":\"SaveTool\"},{\"attributes\":{},\"id\":\"1885\",\"type\":\"Selection\"},{\"attributes\":{\"below\":[{\"id\":\"1706\"}],\"center\":[{\"id\":\"1709\"},{\"id\":\"1713\"}],\"left\":[{\"id\":\"1710\"}],\"plot_height\":400,\"plot_width\":400,\"renderers\":[{\"id\":\"1732\"},{\"id\":\"1737\"}],\"title\":{\"id\":\"1728\"},\"toolbar\":{\"id\":\"1721\"},\"toolbar_location\":null,\"x_range\":{\"id\":\"1698\"},\"x_scale\":{\"id\":\"1702\"},\"y_range\":{\"id\":\"1700\"},\"y_scale\":{\"id\":\"1704\"}},\"id\":\"1697\",\"subtype\":\"Figure\",\"type\":\"Plot\"},{\"attributes\":{},\"id\":\"1718\",\"type\":\"ResetTool\"},{\"attributes\":{\"overlay\":{\"id\":\"1804\"}},\"id\":\"1800\",\"type\":\"BoxZoomTool\"},{\"attributes\":{},\"id\":\"1886\",\"type\":\"UnionRenderers\"},{\"attributes\":{},\"id\":\"1698\",\"type\":\"DataRange1d\"},{\"attributes\":{\"text\":\"tau=0.1\"},\"id\":\"1812\",\"type\":\"Title\"},{\"attributes\":{},\"id\":\"1887\",\"type\":\"Selection\"},{\"attributes\":{},\"id\":\"1828\",\"type\":\"LinearScale\"},{\"attributes\":{},\"id\":\"1891\",\"type\":\"BasicTickFormatter\"},{\"attributes\":{},\"id\":\"1791\",\"type\":\"BasicTicker\"},{\"attributes\":{\"axis\":{\"id\":\"1790\"},\"ticker\":null},\"id\":\"1793\",\"type\":\"Grid\"},{\"attributes\":{},\"id\":\"1799\",\"type\":\"WheelZoomTool\"},{\"attributes\":{},\"id\":\"1830\",\"type\":\"LinearScale\"},{\"attributes\":{},\"id\":\"1893\",\"type\":\"BasicTickFormatter\"},{\"attributes\":{},\"id\":\"1788\",\"type\":\"LinearScale\"},{\"attributes\":{\"active_drag\":\"auto\",\"active_inspect\":\"auto\",\"active_multi\":null,\"active_scroll\":\"auto\",\"active_tap\":\"auto\",\"tools\":[{\"id\":\"1714\"},{\"id\":\"1715\"},{\"id\":\"1716\"},{\"id\":\"1717\"},{\"id\":\"1718\"},{\"id\":\"1719\"}]},\"id\":\"1721\",\"type\":\"Toolbar\"},{\"attributes\":{\"formatter\":{\"id\":\"1905\"},\"ticker\":{\"id\":\"1833\"}},\"id\":\"1832\",\"type\":\"LinearAxis\"},{\"attributes\":{},\"id\":\"1896\",\"type\":\"UnionRenderers\"},{\"attributes\":{},\"id\":\"1872\",\"type\":\"UnionRenderers\"},{\"attributes\":{},\"id\":\"1803\",\"type\":\"HelpTool\"}],\"root_ids\":[\"1916\"]},\"title\":\"Bokeh Application\",\"version\":\"2.1.1\"}};\n",
              "  var render_items = [{\"docid\":\"12d5bc2a-b1b3-415f-8534-27004c179714\",\"root_ids\":[\"1916\"],\"roots\":{\"1916\":\"f1cb7599-3155-4863-beff-010f9873d59f\"}}];\n",
              "  root.Bokeh.embed.embed_items_notebook(docs_json, render_items);\n",
              "\n",
              "  }\n",
              "  if (root.Bokeh !== undefined) {\n",
              "    embed_document(root);\n",
              "  } else {\n",
              "    var attempts = 0;\n",
              "    var timer = setInterval(function(root) {\n",
              "      if (root.Bokeh !== undefined) {\n",
              "        clearInterval(timer);\n",
              "        embed_document(root);\n",
              "      } else {\n",
              "        attempts++;\n",
              "        if (attempts > 100) {\n",
              "          clearInterval(timer);\n",
              "          console.log(\"Bokeh: ERROR: Unable to run BokehJS code because BokehJS library is missing\");\n",
              "        }\n",
              "      }\n",
              "    }, 10, root)\n",
              "  }\n",
              "})(window);"
            ],
            "application/vnd.bokehjs_exec.v0+json": ""
          },
          "metadata": {
            "tags": [],
            "application/vnd.bokehjs_exec.v0+json": {
              "id": "1916"
            }
          }
        }
      ]
    },
    {
      "cell_type": "code",
      "metadata": {
        "id": "qAnZBn5SPM9a"
      },
      "source": [
        ""
      ],
      "execution_count": null,
      "outputs": []
    }
  ]
}