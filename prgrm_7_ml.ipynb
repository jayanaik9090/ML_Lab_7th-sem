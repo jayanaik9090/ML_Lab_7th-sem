{
  "nbformat": 4,
  "nbformat_minor": 0,
  "metadata": {
    "colab": {
      "name": "prgrm_7_ml.ipynb",
      "provenance": [],
      "authorship_tag": "ABX9TyMeVkNy4rCOar4BjvZM2lr4",
      "include_colab_link": true
    },
    "kernelspec": {
      "name": "python3",
      "display_name": "Python 3"
    }
  },
  "cells": [
    {
      "cell_type": "markdown",
      "metadata": {
        "id": "view-in-github",
        "colab_type": "text"
      },
      "source": [
        "<a href=\"https://colab.research.google.com/github/jayanaik9090/MachineLearning_Lab_7th-sem/blob/main/prgrm_7_ml.ipynb\" target=\"_parent\"><img src=\"https://colab.research.google.com/assets/colab-badge.svg\" alt=\"Open In Colab\"/></a>"
      ]
    },
    {
      "cell_type": "code",
      "metadata": {
        "id": "9bKs0bcZAaKZ"
      },
      "source": [
        "import numpy as np\r\n",
        "import pandas as pd\r\n",
        "\r\n"
      ],
      "execution_count": null,
      "outputs": []
    },
    {
      "cell_type": "code",
      "metadata": {
        "colab": {
          "base_uri": "https://localhost:8080/"
        },
        "id": "uCttaBJkAa-S",
        "outputId": "20448e06-7453-43b2-c22e-5acdfe6ff212"
      },
      "source": [
        "!pip install pgmpy\r\n"
      ],
      "execution_count": null,
      "outputs": [
        {
          "output_type": "stream",
          "text": [
            "Requirement already satisfied: pgmpy in /usr/local/lib/python3.6/dist-packages (0.1.12)\n",
            "Requirement already satisfied: pyparsing in /usr/local/lib/python3.6/dist-packages (from pgmpy) (2.4.7)\n",
            "Requirement already satisfied: torch in /usr/local/lib/python3.6/dist-packages (from pgmpy) (1.7.0+cu101)\n",
            "Requirement already satisfied: numpy in /usr/local/lib/python3.6/dist-packages (from pgmpy) (1.19.4)\n",
            "Requirement already satisfied: scipy in /usr/local/lib/python3.6/dist-packages (from pgmpy) (1.4.1)\n",
            "Requirement already satisfied: networkx in /usr/local/lib/python3.6/dist-packages (from pgmpy) (2.5)\n",
            "Requirement already satisfied: scikit-learn in /usr/local/lib/python3.6/dist-packages (from pgmpy) (0.22.2.post1)\n",
            "Requirement already satisfied: pandas in /usr/local/lib/python3.6/dist-packages (from pgmpy) (1.1.5)\n",
            "Requirement already satisfied: statsmodels in /usr/local/lib/python3.6/dist-packages (from pgmpy) (0.10.2)\n",
            "Requirement already satisfied: tqdm in /usr/local/lib/python3.6/dist-packages (from pgmpy) (4.41.1)\n",
            "Requirement already satisfied: joblib in /usr/local/lib/python3.6/dist-packages (from pgmpy) (1.0.0)\n",
            "Requirement already satisfied: future in /usr/local/lib/python3.6/dist-packages (from torch->pgmpy) (0.16.0)\n",
            "Requirement already satisfied: dataclasses in /usr/local/lib/python3.6/dist-packages (from torch->pgmpy) (0.8)\n",
            "Requirement already satisfied: typing-extensions in /usr/local/lib/python3.6/dist-packages (from torch->pgmpy) (3.7.4.3)\n",
            "Requirement already satisfied: decorator>=4.3.0 in /usr/local/lib/python3.6/dist-packages (from networkx->pgmpy) (4.4.2)\n",
            "Requirement already satisfied: pytz>=2017.2 in /usr/local/lib/python3.6/dist-packages (from pandas->pgmpy) (2018.9)\n",
            "Requirement already satisfied: python-dateutil>=2.7.3 in /usr/local/lib/python3.6/dist-packages (from pandas->pgmpy) (2.8.1)\n",
            "Requirement already satisfied: patsy>=0.4.0 in /usr/local/lib/python3.6/dist-packages (from statsmodels->pgmpy) (0.5.1)\n",
            "Requirement already satisfied: six>=1.5 in /usr/local/lib/python3.6/dist-packages (from python-dateutil>=2.7.3->pandas->pgmpy) (1.15.0)\n"
          ],
          "name": "stdout"
        }
      ]
    },
    {
      "cell_type": "code",
      "metadata": {
        "id": "tXgPCrlDAzk9"
      },
      "source": [
        "from pgmpy.inference import VariableElimination\r\n",
        "from pgmpy.models import BayesianModel\r\n",
        "from pgmpy.estimators import MaximumLikelihoodEstimator, BayesianEstimator"
      ],
      "execution_count": null,
      "outputs": []
    },
    {
      "cell_type": "code",
      "metadata": {
        "id": "k8GnY32gA1QO"
      },
      "source": [
        "names = ['age', 'sex', 'cp', 'trestbps', 'chol', 'fbs', 'restecg', 'thalach', 'exang', 'oldpeak', 'slope',\r\n",
        "'ca','thal', 'heartdisease']\r\n",
        "heartDisease = pd.read_csv('/content/heart.csv - heart.csv', names = names)\r\n",
        "heartDisease = heartDisease.replace('?', np.nan)"
      ],
      "execution_count": null,
      "outputs": []
    },
    {
      "cell_type": "code",
      "metadata": {
        "colab": {
          "base_uri": "https://localhost:8080/"
        },
        "id": "feDmh5PNA5qU",
        "outputId": "33e271e6-cc95-4060-9808-34147a40baf8"
      },
      "source": [
        "model = BayesianModel([('age', 'trestbps'), ('age', 'fbs'), ('sex', 'trestbps'), ('exang',\r\n",
        "'trestbps'),('trestbps','heartdisease'),('fbs','heartdisease'),('heartdisease','restecg'),\r\n",
        "('heartdisease','thalach'), ('heartdisease','chol')])\r\n",
        "print(model.get_cpds('age'))\r\n",
        "#print(model.get_cpds('chol'))\r\n",
        "#print(model.get_cpds('sex'))\r\n",
        "#model.get_independencies()\r\n",
        "model.fit(heartDisease, estimator=MaximumLikelihoodEstimator)\r\n",
        "from pgmpy.inference import VariableElimination\r\n",
        "HeartDisease_infer = VariableElimination(model)\r\n",
        "print(\"\\n Probability of heart disease given the age\")\r\n",
        "q = HeartDisease_infer.query(variables=['heartdisease'], evidence={'age': 20}, joint=False)\r\n"
      ],
      "execution_count": null,
      "outputs": [
        {
          "output_type": "stream",
          "text": [
            "None\n",
            "\n",
            " Probability of heart disease given the age\n"
          ],
          "name": "stdout"
        },
        {
          "output_type": "stream",
          "text": [
            "/usr/local/lib/python3.6/dist-packages/pgmpy/factors/discrete/DiscreteFactor.py:519: UserWarning: Found unknown state name. Trying to switch to using all state names as state numbers\n",
            "  \"Found unknown state name. Trying to switch to using all state names as state numbers\"\n",
            "Finding Elimination Order: : 100%|██████████| 7/7 [00:00<00:00, 1247.67it/s]\n",
            "Eliminating: exang: 100%|██████████| 7/7 [00:00<00:00, 201.78it/s]\n"
          ],
          "name": "stderr"
        }
      ]
    },
    {
      "cell_type": "code",
      "metadata": {
        "colab": {
          "base_uri": "https://localhost:8080/"
        },
        "id": "9FsHlCIUCVTY",
        "outputId": "7039d986-d224-4632-ae62-7d66a9172df4"
      },
      "source": [
        "print(q['heartdisease'])"
      ],
      "execution_count": null,
      "outputs": [
        {
          "output_type": "stream",
          "text": [
            "+----------------------------+---------------------+\n",
            "| heartdisease               |   phi(heartdisease) |\n",
            "+============================+=====================+\n",
            "| heartdisease(0)            |              0.4924 |\n",
            "+----------------------------+---------------------+\n",
            "| heartdisease(1)            |              0.2722 |\n",
            "+----------------------------+---------------------+\n",
            "| heartdisease(2)            |              0.0673 |\n",
            "+----------------------------+---------------------+\n",
            "| heartdisease(3)            |              0.1333 |\n",
            "+----------------------------+---------------------+\n",
            "| heartdisease(4)            |              0.0321 |\n",
            "+----------------------------+---------------------+\n",
            "| heartdisease(heartdisease) |              0.0027 |\n",
            "+----------------------------+---------------------+\n"
          ],
          "name": "stdout"
        }
      ]
    },
    {
      "cell_type": "code",
      "metadata": {
        "id": "Y6OSbJ4vXDQt"
      },
      "source": [
        ""
      ],
      "execution_count": null,
      "outputs": []
    }
  ]
}