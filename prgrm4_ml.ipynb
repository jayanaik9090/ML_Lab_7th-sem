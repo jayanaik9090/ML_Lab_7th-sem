{
  "nbformat": 4,
  "nbformat_minor": 0,
  "metadata": {
    "colab": {
      "name": "prgrm4_ml.ipynb",
      "provenance": [],
      "authorship_tag": "ABX9TyMaIaJCO64QNjXhTukPgowD",
      "include_colab_link": true
    },
    "kernelspec": {
      "display_name": "Python 3",
      "name": "python3"
    }
  },
  "cells": [
    {
      "cell_type": "markdown",
      "metadata": {
        "id": "view-in-github",
        "colab_type": "text"
      },
      "source": [
        "<a href=\"https://colab.research.google.com/github/jayanaik9090/MachineLearning_Lab_7th-sem/blob/main/prgrm4_ml.ipynb\" target=\"_parent\"><img src=\"https://colab.research.google.com/assets/colab-badge.svg\" alt=\"Open In Colab\"/></a>"
      ]
    },
    {
      "cell_type": "code",
      "metadata": {
        "colab": {
          "base_uri": "https://localhost:8080/"
        },
        "id": "G9Gmf3wL44Y7",
        "outputId": "6062ceaf-1f5b-4a29-9827-1dc561596fc1"
      },
      "source": [
        "import numpy as np\r\n",
        "X = np.array(([2, 9], [1, 5], [3, 6]), dtype=float)\r\n",
        "print(X)\r\n",
        "y = np.array(([92], [86], [89]), dtype=float)\r\n",
        "X = X/np.amax(X,axis=0) # maximum of X array longitudinally\r\n",
        "y = y/100\r\n",
        "print (X)\r\n",
        "print(y)\r\n",
        "\r\n",
        "\r\n"
      ],
      "execution_count": null,
      "outputs": [
        {
          "output_type": "stream",
          "text": [
            "[[2. 9.]\n",
            " [1. 5.]\n",
            " [3. 6.]]\n",
            "[[0.66666667 1.        ]\n",
            " [0.33333333 0.55555556]\n",
            " [1.         0.66666667]]\n",
            "[[0.92]\n",
            " [0.86]\n",
            " [0.89]]\n"
          ],
          "name": "stdout"
        }
      ]
    },
    {
      "cell_type": "code",
      "metadata": {
        "id": "vAkrgft048X6"
      },
      "source": [
        "#Sigmoid Function\r\n",
        "def sigmoid (x):\r\n",
        "  return (1/(1 + np.exp(-x)))\r\n",
        "\r\n",
        "#Derivative of Sigmoid Function\r\n",
        "def derivatives_sigmoid(x):\r\n",
        "  return x * (1 - x)\r\n",
        "\r\n"
      ],
      "execution_count": null,
      "outputs": []
    },
    {
      "cell_type": "code",
      "metadata": {
        "colab": {
          "background_save": true,
          "base_uri": "https://localhost:8080/"
        },
        "id": "le7jzVaJ53H3",
        "outputId": "f9047d03-7fc0-40ef-be3a-0da1a8d33413"
      },
      "source": [
        "#Variable initialization\r\n",
        "epoch=10000 #Setting training iterations\r\n",
        "lr=0.6#Setting learning rate\r\n",
        "inputlayer_neurons = 2 #number of features in data set\r\n",
        "hiddenlayer_neurons = 3 #number of hidden layers neurons\r\n",
        "output_neurons = 1 #number of neurons at output layer\r\n",
        "\r\n",
        "#weight and bias initialization\r\n",
        "wh=np.random.uniform(size=(inputlayer_neurons,hiddenlayer_neurons))\r\n",
        "bh=np.random.uniform(size=(1,hiddenlayer_neurons))\r\n",
        "wout=np.random.uniform(size=(hiddenlayer_neurons,output_neurons))\r\n",
        "bout=np.random.uniform(size=(1,output_neurons))\r\n",
        "# draws a random range of numbers uniformly of dim x*y\r\n",
        "outinp1=np.dot(hlayer_act,wout)\r\n",
        "print(outinp1)\r\n",
        "outinp= outinp1+ bout\r\n",
        "print(outinp)\r\n"
      ],
      "execution_count": null,
      "outputs": [
        {
          "output_type": "stream",
          "text": [
            "[[1.10472545]\n",
            " [1.0101834 ]\n",
            " [1.07372883]]\n",
            "[[1.52743974]\n",
            " [1.43289769]\n",
            " [1.49644313]]\n"
          ],
          "name": "stdout"
        }
      ]
    },
    {
      "cell_type": "code",
      "metadata": {
        "colab": {
          "background_save": true,
          "base_uri": "https://localhost:8080/"
        },
        "id": "zdL4IN8U58BR",
        "outputId": "af52b77f-a266-4791-8774-80b3582bbc9c"
      },
      "source": [
        "\r\n",
        "#Forward Propagation\r\n",
        "for i in range(epoch):\r\n",
        "  hinp1=np.dot(X,wh)\r\n",
        "  hinp=hinp1 + bh\r\n",
        "  hlayer_act = sigmoid(hinp)\r\n",
        "  outinp1=np.dot(hlayer_act,wout)\r\n",
        "  outinp= outinp1+ bout\r\n",
        "  output = sigmoid(outinp)\r\n",
        "\r\n",
        "#Backpropagation\r\n",
        "EO = y-output\r\n",
        "outgrad = derivatives_sigmoid(output)\r\n",
        "\r\n",
        "#print(outgrad)\r\n",
        "d_output = EO* outgrad\r\n",
        "EH = d_output.dot(wout.T)\r\n",
        "hiddengrad = derivatives_sigmoid(hlayer_act)\r\n",
        "\r\n",
        "#how much hidden layer wts contributed to error\r\n",
        "d_hiddenlayer = EH * hiddengrad\r\n",
        "wout += hlayer_act.T.dot(d_output) *lr\r\n",
        "\r\n",
        "# dotproduct of nextlayererror and currentlayerop\r\n",
        "bout += np.sum(d_output, axis=0,keepdims=True) *lr\r\n",
        "wh += X.T.dot(d_hiddenlayer) *lr\r\n",
        "bh += np.sum(d_hiddenlayer, axis=0,keepdims=True) *lr\r\n",
        "print(\"Input: \\n\" + str(X))\r\n",
        "print(\"Actual Output: \\n\" + str(y))\r\n",
        "print(\"Predicted Output: \\n\" ,output)"
      ],
      "execution_count": null,
      "outputs": [
        {
          "output_type": "stream",
          "text": [
            "Input: \n",
            "[[0.66666667 1.        ]\n",
            " [0.33333333 0.55555556]\n",
            " [1.         0.66666667]]\n",
            "Actual Output: \n",
            "[[0.92]\n",
            " [0.86]\n",
            " [0.89]]\n",
            "Predicted Output: \n",
            " [[0.82829151]\n",
            " [0.80978811]\n",
            " [0.82603293]]\n"
          ],
          "name": "stdout"
        }
      ]
    },
    {
      "cell_type": "code",
      "metadata": {
        "id": "X0ia55Si6ET7"
      },
      "source": [
        ""
      ],
      "execution_count": null,
      "outputs": []
    }
  ]
}